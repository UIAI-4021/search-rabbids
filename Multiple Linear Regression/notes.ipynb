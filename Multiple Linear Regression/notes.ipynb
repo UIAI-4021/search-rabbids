{
 "cells": [
  {
   "cell_type": "raw",
   "source": [],
   "metadata": {
    "collapsed": false,
    "pycharm": {
     "name": ""
    }
   }
  },
  {
   "cell_type": "code",
   "execution_count": 38,
   "metadata": {
    "collapsed": true,
    "pycharm": {
     "name": "#%%\n"
    }
   },
   "outputs": [
    {
     "data": {
      "text/plain": "       departure_time stops   arrival_time     class  duration  days_left  \\\n0             Evening  zero          Night   Economy      2.17          1   \n1       Early_Morning  zero        Morning   Economy      2.33          1   \n2       Early_Morning  zero  Early_Morning   Economy      2.17          1   \n3             Morning  zero      Afternoon   Economy      2.25          1   \n4             Morning  zero        Morning   Economy      2.33          1   \n...               ...   ...            ...       ...       ...        ...   \n270133  Early_Morning   one          Night  Business     17.25         49   \n270134        Morning   one        Evening  Business     10.08         49   \n270135      Afternoon   one          Night  Business     10.42         49   \n270136  Early_Morning   one        Evening  Business     10.00         49   \n270137        Morning   one        Evening  Business     10.08         49   \n\n        price  \n0        5953  \n1        5953  \n2        5956  \n3        5955  \n4        5955  \n...       ...  \n270133  68739  \n270134  69265  \n270135  77105  \n270136  81585  \n270137  81585  \n\n[270138 rows x 7 columns]",
      "text/html": "<div>\n<style scoped>\n    .dataframe tbody tr th:only-of-type {\n        vertical-align: middle;\n    }\n\n    .dataframe tbody tr th {\n        vertical-align: top;\n    }\n\n    .dataframe thead th {\n        text-align: right;\n    }\n</style>\n<table border=\"1\" class=\"dataframe\">\n  <thead>\n    <tr style=\"text-align: right;\">\n      <th></th>\n      <th>departure_time</th>\n      <th>stops</th>\n      <th>arrival_time</th>\n      <th>class</th>\n      <th>duration</th>\n      <th>days_left</th>\n      <th>price</th>\n    </tr>\n  </thead>\n  <tbody>\n    <tr>\n      <th>0</th>\n      <td>Evening</td>\n      <td>zero</td>\n      <td>Night</td>\n      <td>Economy</td>\n      <td>2.17</td>\n      <td>1</td>\n      <td>5953</td>\n    </tr>\n    <tr>\n      <th>1</th>\n      <td>Early_Morning</td>\n      <td>zero</td>\n      <td>Morning</td>\n      <td>Economy</td>\n      <td>2.33</td>\n      <td>1</td>\n      <td>5953</td>\n    </tr>\n    <tr>\n      <th>2</th>\n      <td>Early_Morning</td>\n      <td>zero</td>\n      <td>Early_Morning</td>\n      <td>Economy</td>\n      <td>2.17</td>\n      <td>1</td>\n      <td>5956</td>\n    </tr>\n    <tr>\n      <th>3</th>\n      <td>Morning</td>\n      <td>zero</td>\n      <td>Afternoon</td>\n      <td>Economy</td>\n      <td>2.25</td>\n      <td>1</td>\n      <td>5955</td>\n    </tr>\n    <tr>\n      <th>4</th>\n      <td>Morning</td>\n      <td>zero</td>\n      <td>Morning</td>\n      <td>Economy</td>\n      <td>2.33</td>\n      <td>1</td>\n      <td>5955</td>\n    </tr>\n    <tr>\n      <th>...</th>\n      <td>...</td>\n      <td>...</td>\n      <td>...</td>\n      <td>...</td>\n      <td>...</td>\n      <td>...</td>\n      <td>...</td>\n    </tr>\n    <tr>\n      <th>270133</th>\n      <td>Early_Morning</td>\n      <td>one</td>\n      <td>Night</td>\n      <td>Business</td>\n      <td>17.25</td>\n      <td>49</td>\n      <td>68739</td>\n    </tr>\n    <tr>\n      <th>270134</th>\n      <td>Morning</td>\n      <td>one</td>\n      <td>Evening</td>\n      <td>Business</td>\n      <td>10.08</td>\n      <td>49</td>\n      <td>69265</td>\n    </tr>\n    <tr>\n      <th>270135</th>\n      <td>Afternoon</td>\n      <td>one</td>\n      <td>Night</td>\n      <td>Business</td>\n      <td>10.42</td>\n      <td>49</td>\n      <td>77105</td>\n    </tr>\n    <tr>\n      <th>270136</th>\n      <td>Early_Morning</td>\n      <td>one</td>\n      <td>Evening</td>\n      <td>Business</td>\n      <td>10.00</td>\n      <td>49</td>\n      <td>81585</td>\n    </tr>\n    <tr>\n      <th>270137</th>\n      <td>Morning</td>\n      <td>one</td>\n      <td>Evening</td>\n      <td>Business</td>\n      <td>10.08</td>\n      <td>49</td>\n      <td>81585</td>\n    </tr>\n  </tbody>\n</table>\n<p>270138 rows × 7 columns</p>\n</div>"
     },
     "execution_count": 38,
     "metadata": {},
     "output_type": "execute_result"
    }
   ],
   "source": [
    "import pandas as pd\n",
    "import numpy as np\n",
    "from sklearn.model_selection import train_test_split\n",
    "from sklearn.preprocessing import OneHotEncoder\n",
    "from sklearn.preprocessing import MinMaxScaler\n"
   ]
  },
  {
   "cell_type": "code",
   "execution_count": 39,
   "outputs": [
    {
     "data": {
      "text/plain": "        departure_time  stops  arrival_time  class  duration  days_left  price\n0                    3      0             4      1      2.17          1   5953\n1                    0      0             1      1      2.33          1   5953\n2                    0      0             0      1      2.17          1   5956\n3                    1      0             2      1      2.25          1   5955\n4                    1      0             1      1      2.33          1   5955\n...                ...    ...           ...    ...       ...        ...    ...\n270133               0      1             4      5     17.25         49  68739\n270134               1      1             3      5     10.08         49  69265\n270135               2      1             4      5     10.42         49  77105\n270136               0      1             3      5     10.00         49  81585\n270137               1      1             3      5     10.08         49  81585\n\n[270138 rows x 7 columns]",
      "text/html": "<div>\n<style scoped>\n    .dataframe tbody tr th:only-of-type {\n        vertical-align: middle;\n    }\n\n    .dataframe tbody tr th {\n        vertical-align: top;\n    }\n\n    .dataframe thead th {\n        text-align: right;\n    }\n</style>\n<table border=\"1\" class=\"dataframe\">\n  <thead>\n    <tr style=\"text-align: right;\">\n      <th></th>\n      <th>departure_time</th>\n      <th>stops</th>\n      <th>arrival_time</th>\n      <th>class</th>\n      <th>duration</th>\n      <th>days_left</th>\n      <th>price</th>\n    </tr>\n  </thead>\n  <tbody>\n    <tr>\n      <th>0</th>\n      <td>3</td>\n      <td>0</td>\n      <td>4</td>\n      <td>1</td>\n      <td>2.17</td>\n      <td>1</td>\n      <td>5953</td>\n    </tr>\n    <tr>\n      <th>1</th>\n      <td>0</td>\n      <td>0</td>\n      <td>1</td>\n      <td>1</td>\n      <td>2.33</td>\n      <td>1</td>\n      <td>5953</td>\n    </tr>\n    <tr>\n      <th>2</th>\n      <td>0</td>\n      <td>0</td>\n      <td>0</td>\n      <td>1</td>\n      <td>2.17</td>\n      <td>1</td>\n      <td>5956</td>\n    </tr>\n    <tr>\n      <th>3</th>\n      <td>1</td>\n      <td>0</td>\n      <td>2</td>\n      <td>1</td>\n      <td>2.25</td>\n      <td>1</td>\n      <td>5955</td>\n    </tr>\n    <tr>\n      <th>4</th>\n      <td>1</td>\n      <td>0</td>\n      <td>1</td>\n      <td>1</td>\n      <td>2.33</td>\n      <td>1</td>\n      <td>5955</td>\n    </tr>\n    <tr>\n      <th>...</th>\n      <td>...</td>\n      <td>...</td>\n      <td>...</td>\n      <td>...</td>\n      <td>...</td>\n      <td>...</td>\n      <td>...</td>\n    </tr>\n    <tr>\n      <th>270133</th>\n      <td>0</td>\n      <td>1</td>\n      <td>4</td>\n      <td>5</td>\n      <td>17.25</td>\n      <td>49</td>\n      <td>68739</td>\n    </tr>\n    <tr>\n      <th>270134</th>\n      <td>1</td>\n      <td>1</td>\n      <td>3</td>\n      <td>5</td>\n      <td>10.08</td>\n      <td>49</td>\n      <td>69265</td>\n    </tr>\n    <tr>\n      <th>270135</th>\n      <td>2</td>\n      <td>1</td>\n      <td>4</td>\n      <td>5</td>\n      <td>10.42</td>\n      <td>49</td>\n      <td>77105</td>\n    </tr>\n    <tr>\n      <th>270136</th>\n      <td>0</td>\n      <td>1</td>\n      <td>3</td>\n      <td>5</td>\n      <td>10.00</td>\n      <td>49</td>\n      <td>81585</td>\n    </tr>\n    <tr>\n      <th>270137</th>\n      <td>1</td>\n      <td>1</td>\n      <td>3</td>\n      <td>5</td>\n      <td>10.08</td>\n      <td>49</td>\n      <td>81585</td>\n    </tr>\n  </tbody>\n</table>\n<p>270138 rows × 7 columns</p>\n</div>"
     },
     "execution_count": 39,
     "metadata": {},
     "output_type": "execute_result"
    }
   ],
   "source": [
    "df = pd.read_csv(\"Flight_Price_Dataset_Q2.csv\")\n",
    "df"
   ],
   "metadata": {
    "collapsed": false,
    "pycharm": {
     "name": "#%%\n"
    }
   }
  },
  {
   "cell_type": "code",
   "execution_count": 43,
   "outputs": [
    {
     "data": {
      "text/plain": "        departure_time  stops  arrival_time  class  duration  days_left  b\n0                    3      0             4      1      2.17          1  1\n1                    0      0             1      1      2.33          1  1\n2                    0      0             0      1      2.17          1  1\n3                    1      0             2      1      2.25          1  1\n4                    1      0             1      1      2.33          1  1\n...                ...    ...           ...    ...       ...        ... ..\n270133               0      1             4      5     17.25         49  1\n270134               1      1             3      5     10.08         49  1\n270135               2      1             4      5     10.42         49  1\n270136               0      1             3      5     10.00         49  1\n270137               1      1             3      5     10.08         49  1\n\n[270138 rows x 7 columns]",
      "text/html": "<div>\n<style scoped>\n    .dataframe tbody tr th:only-of-type {\n        vertical-align: middle;\n    }\n\n    .dataframe tbody tr th {\n        vertical-align: top;\n    }\n\n    .dataframe thead th {\n        text-align: right;\n    }\n</style>\n<table border=\"1\" class=\"dataframe\">\n  <thead>\n    <tr style=\"text-align: right;\">\n      <th></th>\n      <th>departure_time</th>\n      <th>stops</th>\n      <th>arrival_time</th>\n      <th>class</th>\n      <th>duration</th>\n      <th>days_left</th>\n      <th>b</th>\n    </tr>\n  </thead>\n  <tbody>\n    <tr>\n      <th>0</th>\n      <td>3</td>\n      <td>0</td>\n      <td>4</td>\n      <td>1</td>\n      <td>2.17</td>\n      <td>1</td>\n      <td>1</td>\n    </tr>\n    <tr>\n      <th>1</th>\n      <td>0</td>\n      <td>0</td>\n      <td>1</td>\n      <td>1</td>\n      <td>2.33</td>\n      <td>1</td>\n      <td>1</td>\n    </tr>\n    <tr>\n      <th>2</th>\n      <td>0</td>\n      <td>0</td>\n      <td>0</td>\n      <td>1</td>\n      <td>2.17</td>\n      <td>1</td>\n      <td>1</td>\n    </tr>\n    <tr>\n      <th>3</th>\n      <td>1</td>\n      <td>0</td>\n      <td>2</td>\n      <td>1</td>\n      <td>2.25</td>\n      <td>1</td>\n      <td>1</td>\n    </tr>\n    <tr>\n      <th>4</th>\n      <td>1</td>\n      <td>0</td>\n      <td>1</td>\n      <td>1</td>\n      <td>2.33</td>\n      <td>1</td>\n      <td>1</td>\n    </tr>\n    <tr>\n      <th>...</th>\n      <td>...</td>\n      <td>...</td>\n      <td>...</td>\n      <td>...</td>\n      <td>...</td>\n      <td>...</td>\n      <td>...</td>\n    </tr>\n    <tr>\n      <th>270133</th>\n      <td>0</td>\n      <td>1</td>\n      <td>4</td>\n      <td>5</td>\n      <td>17.25</td>\n      <td>49</td>\n      <td>1</td>\n    </tr>\n    <tr>\n      <th>270134</th>\n      <td>1</td>\n      <td>1</td>\n      <td>3</td>\n      <td>5</td>\n      <td>10.08</td>\n      <td>49</td>\n      <td>1</td>\n    </tr>\n    <tr>\n      <th>270135</th>\n      <td>2</td>\n      <td>1</td>\n      <td>4</td>\n      <td>5</td>\n      <td>10.42</td>\n      <td>49</td>\n      <td>1</td>\n    </tr>\n    <tr>\n      <th>270136</th>\n      <td>0</td>\n      <td>1</td>\n      <td>3</td>\n      <td>5</td>\n      <td>10.00</td>\n      <td>49</td>\n      <td>1</td>\n    </tr>\n    <tr>\n      <th>270137</th>\n      <td>1</td>\n      <td>1</td>\n      <td>3</td>\n      <td>5</td>\n      <td>10.08</td>\n      <td>49</td>\n      <td>1</td>\n    </tr>\n  </tbody>\n</table>\n<p>270138 rows × 7 columns</p>\n</div>"
     },
     "execution_count": 43,
     "metadata": {},
     "output_type": "execute_result"
    }
   ],
   "source": [
    "df[\"stops\"] = df[\"stops\"].map({\"zero\": 0, \"one\": 1, \"two_or_more\": 2})\n",
    "\n",
    "df['arrival_time'] = df['arrival_time'].map({'Early_Morning': 0, 'Morning': 1, 'Afternoon': 2,\n",
    "                                             'Evening': 3, 'Night': 4, 'Late_Night': 5})\n",
    "\n",
    "df['departure_time'] = df['departure_time'].map({'Early_Morning': 0, 'Morning': 1, 'Afternoon': 2,\n",
    "                                                 'Evening': 3, 'Night': 4, 'Late_Night': 5})\n",
    "\n",
    "df['class'] = df['class'].map({'Economy': 1, 'Business': 5})\n",
    "df"
   ],
   "metadata": {
    "collapsed": false,
    "pycharm": {
     "name": "#%%\n"
    }
   }
  },
  {
   "cell_type": "code",
   "execution_count": 163,
   "outputs": [
    {
     "data": {
      "text/plain": "array([[0.        , 0.        , 1.        , ..., 0.02734694, 0.        ,\n        0.03974878],\n       [0.        , 0.        , 1.        , ..., 0.03061224, 0.        ,\n        0.03974878],\n       [0.        , 0.        , 1.        , ..., 0.02734694, 0.        ,\n        0.03977338],\n       ...,\n       [1.        , 0.        , 0.        , ..., 0.19571429, 1.        ,\n        0.62312448],\n       [1.        , 0.        , 0.        , ..., 0.18714286, 1.        ,\n        0.65985603],\n       [1.        , 0.        , 0.        , ..., 0.18877551, 1.        ,\n        0.65985603]])"
     },
     "execution_count": 163,
     "metadata": {},
     "output_type": "execute_result"
    }
   ],
   "source": [
    "x = df.iloc[0:, 0:6]\n",
    "# x = np.array(x)\n",
    "# # x = (x - x.mean()) / x.std()\n",
    "# x = pd.DataFrame(x)\n",
    "x['b'] = 1\n",
    "x"
   ],
   "metadata": {
    "collapsed": false,
    "pycharm": {
     "name": "#%%\n"
    }
   }
  },
  {
   "cell_type": "code",
   "execution_count": null,
   "outputs": [],
   "source": [
    "# x = np.array(x)\n",
    "# # x = (x - x.mean()) / x.std()\n",
    "# x = pd.DataFrame(x)\n",
    "x['b'] = 1\n",
    "x"
   ],
   "metadata": {
    "collapsed": false,
    "pycharm": {
     "name": "#%%\n"
    }
   }
  },
  {
   "cell_type": "code",
   "execution_count": 14,
   "outputs": [
    {
     "data": {
      "text/plain": "array([[-0.42160947, -0.69302263, -0.33113842, ..., -0.49670045,\n        -0.60255158,  1.        ],\n       [-0.69302263, -0.69302263, -0.60255158, ..., -0.48222508,\n        -0.60255158,  1.        ],\n       [-0.69302263, -0.69302263, -0.69302263, ..., -0.49670045,\n        -0.60255158,  1.        ],\n       ...,\n       [-0.51208052, -0.60255158, -0.33113842, ...,  0.24968573,\n         3.74005889,  1.        ],\n       [-0.69302263, -0.60255158, -0.42160947, ...,  0.21168789,\n         3.74005889,  1.        ],\n       [-0.60255158, -0.60255158, -0.42160947, ...,  0.21892557,\n         3.74005889,  1.        ]])"
     },
     "execution_count": 14,
     "metadata": {},
     "output_type": "execute_result"
    }
   ],
   "source": [
    "y = df[\"price\"].values\n",
    "\n",
    "x = df.iloc[0:, 0:6]\n",
    "x = np.array(x)\n",
    "x = (x - x.mean()) / x.std()\n",
    "x = pd.DataFrame(x)\n",
    "x['b'] = 1\n",
    "x = np.array(x)\n",
    "x"
   ],
   "metadata": {
    "collapsed": false,
    "pycharm": {
     "name": "#%%\n"
    }
   }
  },
  {
   "cell_type": "code",
   "execution_count": 8,
   "outputs": [
    {
     "data": {
      "text/plain": "array([-0.65820293, -0.65820293, -0.65807075, ...,  2.47665663,\n        2.67403929,  2.67403929])"
     },
     "execution_count": 8,
     "metadata": {},
     "output_type": "execute_result"
    }
   ],
   "source": [
    "y = (y - y.mean()) / y.std()\n",
    "y"
   ],
   "metadata": {
    "collapsed": false,
    "pycharm": {
     "name": "#%%\n"
    }
   }
  },
  {
   "cell_type": "code",
   "execution_count": 29,
   "outputs": [
    {
     "data": {
      "text/plain": "array([0., 0., 0., ..., 0., 0., 0.])"
     },
     "execution_count": 29,
     "metadata": {},
     "output_type": "execute_result"
    }
   ],
   "source": [
    "coef = np.zeros(7)\n",
    "d = x.dot(coef)\n",
    "d"
   ],
   "metadata": {
    "collapsed": false,
    "pycharm": {
     "name": "#%%\n"
    }
   }
  },
  {
   "cell_type": "code",
   "execution_count": 18,
   "outputs": [
    {
     "data": {
      "text/plain": "array([ -5953.,  -5953.,  -5956., ..., -77105., -81585., -81585.])"
     },
     "execution_count": 18,
     "metadata": {},
     "output_type": "execute_result"
    }
   ],
   "source": [
    "y = df[\"price\"].values\n",
    "d - y"
   ],
   "metadata": {
    "collapsed": false,
    "pycharm": {
     "name": "#%%\n"
    }
   }
  },
  {
   "cell_type": "code",
   "execution_count": 28,
   "outputs": [
    {
     "data": {
      "text/plain": "array([ 21780.46082859,  25268.30733125,  18756.77833428,  13332.33688036,\n       -23286.2590386 , -64255.41648656, -41784.5024543 ])"
     },
     "execution_count": 28,
     "metadata": {},
     "output_type": "execute_result"
    }
   ],
   "source": [
    "t = np.dot(np.transpose(np.dot(x, coef) - y), x) * 2/len(x)\n",
    "t"
   ],
   "metadata": {
    "collapsed": false,
    "pycharm": {
     "name": "#%%\n"
    }
   }
  },
  {
   "cell_type": "code",
   "execution_count": 138,
   "outputs": [
    {
     "data": {
      "text/plain": "array([[ 1.  ,  2.17,  1.  ],\n       [ 1.  ,  2.33,  1.  ],\n       [ 1.  ,  2.17,  1.  ],\n       ...,\n       [ 1.  , 10.75,  4.  ],\n       [ 1.  , 11.58,  4.  ],\n       [ 1.  , 14.08,  4.  ]])"
     },
     "execution_count": 138,
     "metadata": {},
     "output_type": "execute_result"
    }
   ],
   "source": [
    "x = df.drop(\"price\", axis=1).values\n",
    "y = df[\"price\"].values\n",
    "\n",
    "x_train, x_test, y_train, y_test = train_test_split(x, y, test_size=0.6, shuffle=False)\n",
    "x_train"
   ],
   "metadata": {
    "collapsed": false,
    "pycharm": {
     "name": "#%%\n"
    }
   }
  },
  {
   "cell_type": "code",
   "execution_count": 113,
   "outputs": [
    {
     "data": {
      "text/plain": "        departure_time  stops   arrival_time  class  duration  days_left  \\\n0                  NaN    NaN          Night    NaN      2.17          1   \n1                  NaN    NaN        Morning    NaN      2.33          1   \n2                  NaN    NaN  Early_Morning    NaN      2.17          1   \n3                  NaN    NaN      Afternoon    NaN      2.25          1   \n4                  NaN    NaN        Morning    NaN      2.33          1   \n...                ...    ...            ...    ...       ...        ...   \n270133             NaN    NaN          Night    NaN     17.25         49   \n270134             NaN    NaN        Evening    NaN     10.08         49   \n270135             NaN    NaN          Night    NaN     10.42         49   \n270136             NaN    NaN        Evening    NaN     10.00         49   \n270137             NaN    NaN        Evening    NaN     10.08         49   \n\n        price  Afternoon  Early_Morning  Evening  ...  Evening  Late_Night  \\\n0        5953      False          False    False  ...    False       False   \n1        5953      False          False    False  ...    False       False   \n2        5956      False           True    False  ...    False       False   \n3        5955       True          False    False  ...    False       False   \n4        5955      False          False    False  ...    False       False   \n...       ...        ...            ...      ...  ...      ...         ...   \n270133  68739      False          False    False  ...    False       False   \n270134  69265      False          False     True  ...     True       False   \n270135  77105      False          False    False  ...    False       False   \n270136  81585      False          False     True  ...     True       False   \n270137  81585      False          False     True  ...     True       False   \n\n        Morning  Night  Afternoon  Early_Morning  Evening  Late_Night  \\\n0         False   True      False          False    False       False   \n1          True  False      False          False    False       False   \n2         False  False      False           True    False       False   \n3         False  False       True          False    False       False   \n4          True  False      False          False    False       False   \n...         ...    ...        ...            ...      ...         ...   \n270133    False   True      False          False    False       False   \n270134    False  False      False          False     True       False   \n270135    False   True      False          False    False       False   \n270136    False  False      False          False     True       False   \n270137    False  False      False          False     True       False   \n\n        Morning  Night  \n0         False   True  \n1          True  False  \n2         False  False  \n3         False  False  \n4          True  False  \n...         ...    ...  \n270133    False   True  \n270134    False  False  \n270135    False   True  \n270136    False  False  \n270137    False  False  \n\n[270138 rows x 25 columns]",
      "text/html": "<div>\n<style scoped>\n    .dataframe tbody tr th:only-of-type {\n        vertical-align: middle;\n    }\n\n    .dataframe tbody tr th {\n        vertical-align: top;\n    }\n\n    .dataframe thead th {\n        text-align: right;\n    }\n</style>\n<table border=\"1\" class=\"dataframe\">\n  <thead>\n    <tr style=\"text-align: right;\">\n      <th></th>\n      <th>departure_time</th>\n      <th>stops</th>\n      <th>arrival_time</th>\n      <th>class</th>\n      <th>duration</th>\n      <th>days_left</th>\n      <th>price</th>\n      <th>Afternoon</th>\n      <th>Early_Morning</th>\n      <th>Evening</th>\n      <th>...</th>\n      <th>Evening</th>\n      <th>Late_Night</th>\n      <th>Morning</th>\n      <th>Night</th>\n      <th>Afternoon</th>\n      <th>Early_Morning</th>\n      <th>Evening</th>\n      <th>Late_Night</th>\n      <th>Morning</th>\n      <th>Night</th>\n    </tr>\n  </thead>\n  <tbody>\n    <tr>\n      <th>0</th>\n      <td>NaN</td>\n      <td>NaN</td>\n      <td>Night</td>\n      <td>NaN</td>\n      <td>2.17</td>\n      <td>1</td>\n      <td>5953</td>\n      <td>False</td>\n      <td>False</td>\n      <td>False</td>\n      <td>...</td>\n      <td>False</td>\n      <td>False</td>\n      <td>False</td>\n      <td>True</td>\n      <td>False</td>\n      <td>False</td>\n      <td>False</td>\n      <td>False</td>\n      <td>False</td>\n      <td>True</td>\n    </tr>\n    <tr>\n      <th>1</th>\n      <td>NaN</td>\n      <td>NaN</td>\n      <td>Morning</td>\n      <td>NaN</td>\n      <td>2.33</td>\n      <td>1</td>\n      <td>5953</td>\n      <td>False</td>\n      <td>False</td>\n      <td>False</td>\n      <td>...</td>\n      <td>False</td>\n      <td>False</td>\n      <td>True</td>\n      <td>False</td>\n      <td>False</td>\n      <td>False</td>\n      <td>False</td>\n      <td>False</td>\n      <td>True</td>\n      <td>False</td>\n    </tr>\n    <tr>\n      <th>2</th>\n      <td>NaN</td>\n      <td>NaN</td>\n      <td>Early_Morning</td>\n      <td>NaN</td>\n      <td>2.17</td>\n      <td>1</td>\n      <td>5956</td>\n      <td>False</td>\n      <td>True</td>\n      <td>False</td>\n      <td>...</td>\n      <td>False</td>\n      <td>False</td>\n      <td>False</td>\n      <td>False</td>\n      <td>False</td>\n      <td>True</td>\n      <td>False</td>\n      <td>False</td>\n      <td>False</td>\n      <td>False</td>\n    </tr>\n    <tr>\n      <th>3</th>\n      <td>NaN</td>\n      <td>NaN</td>\n      <td>Afternoon</td>\n      <td>NaN</td>\n      <td>2.25</td>\n      <td>1</td>\n      <td>5955</td>\n      <td>True</td>\n      <td>False</td>\n      <td>False</td>\n      <td>...</td>\n      <td>False</td>\n      <td>False</td>\n      <td>False</td>\n      <td>False</td>\n      <td>True</td>\n      <td>False</td>\n      <td>False</td>\n      <td>False</td>\n      <td>False</td>\n      <td>False</td>\n    </tr>\n    <tr>\n      <th>4</th>\n      <td>NaN</td>\n      <td>NaN</td>\n      <td>Morning</td>\n      <td>NaN</td>\n      <td>2.33</td>\n      <td>1</td>\n      <td>5955</td>\n      <td>False</td>\n      <td>False</td>\n      <td>False</td>\n      <td>...</td>\n      <td>False</td>\n      <td>False</td>\n      <td>True</td>\n      <td>False</td>\n      <td>False</td>\n      <td>False</td>\n      <td>False</td>\n      <td>False</td>\n      <td>True</td>\n      <td>False</td>\n    </tr>\n    <tr>\n      <th>...</th>\n      <td>...</td>\n      <td>...</td>\n      <td>...</td>\n      <td>...</td>\n      <td>...</td>\n      <td>...</td>\n      <td>...</td>\n      <td>...</td>\n      <td>...</td>\n      <td>...</td>\n      <td>...</td>\n      <td>...</td>\n      <td>...</td>\n      <td>...</td>\n      <td>...</td>\n      <td>...</td>\n      <td>...</td>\n      <td>...</td>\n      <td>...</td>\n      <td>...</td>\n      <td>...</td>\n    </tr>\n    <tr>\n      <th>270133</th>\n      <td>NaN</td>\n      <td>NaN</td>\n      <td>Night</td>\n      <td>NaN</td>\n      <td>17.25</td>\n      <td>49</td>\n      <td>68739</td>\n      <td>False</td>\n      <td>False</td>\n      <td>False</td>\n      <td>...</td>\n      <td>False</td>\n      <td>False</td>\n      <td>False</td>\n      <td>True</td>\n      <td>False</td>\n      <td>False</td>\n      <td>False</td>\n      <td>False</td>\n      <td>False</td>\n      <td>True</td>\n    </tr>\n    <tr>\n      <th>270134</th>\n      <td>NaN</td>\n      <td>NaN</td>\n      <td>Evening</td>\n      <td>NaN</td>\n      <td>10.08</td>\n      <td>49</td>\n      <td>69265</td>\n      <td>False</td>\n      <td>False</td>\n      <td>True</td>\n      <td>...</td>\n      <td>True</td>\n      <td>False</td>\n      <td>False</td>\n      <td>False</td>\n      <td>False</td>\n      <td>False</td>\n      <td>True</td>\n      <td>False</td>\n      <td>False</td>\n      <td>False</td>\n    </tr>\n    <tr>\n      <th>270135</th>\n      <td>NaN</td>\n      <td>NaN</td>\n      <td>Night</td>\n      <td>NaN</td>\n      <td>10.42</td>\n      <td>49</td>\n      <td>77105</td>\n      <td>False</td>\n      <td>False</td>\n      <td>False</td>\n      <td>...</td>\n      <td>False</td>\n      <td>False</td>\n      <td>False</td>\n      <td>True</td>\n      <td>False</td>\n      <td>False</td>\n      <td>False</td>\n      <td>False</td>\n      <td>False</td>\n      <td>True</td>\n    </tr>\n    <tr>\n      <th>270136</th>\n      <td>NaN</td>\n      <td>NaN</td>\n      <td>Evening</td>\n      <td>NaN</td>\n      <td>10.00</td>\n      <td>49</td>\n      <td>81585</td>\n      <td>False</td>\n      <td>False</td>\n      <td>True</td>\n      <td>...</td>\n      <td>True</td>\n      <td>False</td>\n      <td>False</td>\n      <td>False</td>\n      <td>False</td>\n      <td>False</td>\n      <td>True</td>\n      <td>False</td>\n      <td>False</td>\n      <td>False</td>\n    </tr>\n    <tr>\n      <th>270137</th>\n      <td>NaN</td>\n      <td>NaN</td>\n      <td>Evening</td>\n      <td>NaN</td>\n      <td>10.08</td>\n      <td>49</td>\n      <td>81585</td>\n      <td>False</td>\n      <td>False</td>\n      <td>True</td>\n      <td>...</td>\n      <td>True</td>\n      <td>False</td>\n      <td>False</td>\n      <td>False</td>\n      <td>False</td>\n      <td>False</td>\n      <td>True</td>\n      <td>False</td>\n      <td>False</td>\n      <td>False</td>\n    </tr>\n  </tbody>\n</table>\n<p>270138 rows × 25 columns</p>\n</div>"
     },
     "execution_count": 113,
     "metadata": {},
     "output_type": "execute_result"
    }
   ],
   "source": [
    "\n",
    "df[\"stops\"] = df[\"stops\"].map({\"zero\": 0, \"one\": 1, \"two_or_more\": 2})\n",
    "\n",
    "df['arrival_time'] = df['arrival_time'].map({'Early_Morning': 0, 'Morning': 1, 'Afternoon': 2,\n",
    "                                             'Evening': 3, 'Night': 4, 'Late_Night': 5})\n",
    "\n",
    "df['departure_time'] = df['departure_time'].map({'Early_Morning': 0, 'Morning': 1, 'Afternoon': 2,\n",
    "                                                 'Evening': 3, 'Night': 4, 'Late_Night': 5})\n",
    "\n",
    "df['class'] = df['class'].map({'Economy': 0, 'Business': 1})\n",
    "df"
   ],
   "metadata": {
    "collapsed": false,
    "pycharm": {
     "name": "#%%\n"
    }
   }
  },
  {
   "cell_type": "code",
   "execution_count": 98,
   "outputs": [
    {
     "name": "stdout",
     "output_type": "stream",
     "text": [
      "[[ 3.    0.    4.    0.    2.17  1.  ]\n",
      " [ 0.    0.    1.    0.    2.33  1.  ]\n",
      " [ 0.    0.    0.    0.    2.17  1.  ]\n",
      " ...\n",
      " [ 2.    1.    4.    1.   10.42 49.  ]\n",
      " [ 0.    1.    3.    1.   10.   49.  ]\n",
      " [ 1.    1.    3.    1.   10.08 49.  ]]\n"
     ]
    }
   ],
   "source": [
    "x = df.drop(\"price\", axis=1).values\n",
    "print(x)"
   ],
   "metadata": {
    "collapsed": false,
    "pycharm": {
     "name": "#%%\n"
    }
   }
  },
  {
   "cell_type": "code",
   "execution_count": 107,
   "outputs": [
    {
     "ename": "TypeError",
     "evalue": "TransformerMixin.fit_transform() missing 1 required positional argument: 'X'",
     "output_type": "error",
     "traceback": [
      "\u001B[1;31m---------------------------------------------------------------------------\u001B[0m",
      "\u001B[1;31mTypeError\u001B[0m                                 Traceback (most recent call last)",
      "Cell \u001B[1;32mIn[107], line 3\u001B[0m\n\u001B[0;32m      1\u001B[0m scaler \u001B[38;5;241m=\u001B[39m MaxAbsScaler\n\u001B[0;32m      2\u001B[0m data \u001B[38;5;241m=\u001B[39m np\u001B[38;5;241m.\u001B[39marray(df)\n\u001B[1;32m----> 3\u001B[0m x_normalized \u001B[38;5;241m=\u001B[39m \u001B[43mscaler\u001B[49m\u001B[38;5;241;43m.\u001B[39;49m\u001B[43mfit_transform\u001B[49m\u001B[43m(\u001B[49m\u001B[43mdata\u001B[49m\u001B[43m)\u001B[49m\n\u001B[0;32m      4\u001B[0m x_normalized\n",
      "\u001B[1;31mTypeError\u001B[0m: TransformerMixin.fit_transform() missing 1 required positional argument: 'X'"
     ]
    }
   ],
   "source": [
    "scaler = MaxAbsScaler\n",
    "data = np.array(df)\n",
    "x_normalized = scaler.\n",
    "x_normalized"
   ],
   "metadata": {
    "collapsed": false,
    "pycharm": {
     "name": "#%%\n"
    }
   }
  },
  {
   "cell_type": "code",
   "execution_count": 67,
   "outputs": [
    {
     "name": "stdout",
     "output_type": "stream",
     "text": [
      "[ 5953  5953  5956 ... 77105 81585 81585]\n"
     ]
    }
   ],
   "source": [
    "y = df[\"price\"].values\n",
    "print(y)"
   ],
   "metadata": {
    "collapsed": false,
    "pycharm": {
     "name": "#%%\n"
    }
   }
  },
  {
   "cell_type": "code",
   "execution_count": 70,
   "outputs": [
    {
     "data": {
      "text/plain": "                departure_time     stops  arrival_time     class  duration  \\\ndeparture_time        1.000000 -0.070057     -0.079846  0.029657  0.131420   \nstops                -0.070057  1.000000      0.045254  0.001790  0.468928   \narrival_time         -0.079846  0.045254      1.000000 -0.022188 -0.124206   \nclass                 0.029657  0.001790     -0.022188  1.000000  0.138937   \nduration              0.131420  0.468928     -0.124206  0.138937  1.000000   \ndays_left             0.000081 -0.009128      0.000499 -0.012238 -0.039288   \nprice                 0.019681  0.120344     -0.000813  0.937923  0.204198   \n\n                days_left     price  \ndeparture_time   0.000081  0.019681  \nstops           -0.009128  0.120344  \narrival_time     0.000499 -0.000813  \nclass           -0.012238  0.937923  \nduration        -0.039288  0.204198  \ndays_left        1.000000 -0.091091  \nprice           -0.091091  1.000000  ",
      "text/html": "<div>\n<style scoped>\n    .dataframe tbody tr th:only-of-type {\n        vertical-align: middle;\n    }\n\n    .dataframe tbody tr th {\n        vertical-align: top;\n    }\n\n    .dataframe thead th {\n        text-align: right;\n    }\n</style>\n<table border=\"1\" class=\"dataframe\">\n  <thead>\n    <tr style=\"text-align: right;\">\n      <th></th>\n      <th>departure_time</th>\n      <th>stops</th>\n      <th>arrival_time</th>\n      <th>class</th>\n      <th>duration</th>\n      <th>days_left</th>\n      <th>price</th>\n    </tr>\n  </thead>\n  <tbody>\n    <tr>\n      <th>departure_time</th>\n      <td>1.000000</td>\n      <td>-0.070057</td>\n      <td>-0.079846</td>\n      <td>0.029657</td>\n      <td>0.131420</td>\n      <td>0.000081</td>\n      <td>0.019681</td>\n    </tr>\n    <tr>\n      <th>stops</th>\n      <td>-0.070057</td>\n      <td>1.000000</td>\n      <td>0.045254</td>\n      <td>0.001790</td>\n      <td>0.468928</td>\n      <td>-0.009128</td>\n      <td>0.120344</td>\n    </tr>\n    <tr>\n      <th>arrival_time</th>\n      <td>-0.079846</td>\n      <td>0.045254</td>\n      <td>1.000000</td>\n      <td>-0.022188</td>\n      <td>-0.124206</td>\n      <td>0.000499</td>\n      <td>-0.000813</td>\n    </tr>\n    <tr>\n      <th>class</th>\n      <td>0.029657</td>\n      <td>0.001790</td>\n      <td>-0.022188</td>\n      <td>1.000000</td>\n      <td>0.138937</td>\n      <td>-0.012238</td>\n      <td>0.937923</td>\n    </tr>\n    <tr>\n      <th>duration</th>\n      <td>0.131420</td>\n      <td>0.468928</td>\n      <td>-0.124206</td>\n      <td>0.138937</td>\n      <td>1.000000</td>\n      <td>-0.039288</td>\n      <td>0.204198</td>\n    </tr>\n    <tr>\n      <th>days_left</th>\n      <td>0.000081</td>\n      <td>-0.009128</td>\n      <td>0.000499</td>\n      <td>-0.012238</td>\n      <td>-0.039288</td>\n      <td>1.000000</td>\n      <td>-0.091091</td>\n    </tr>\n    <tr>\n      <th>price</th>\n      <td>0.019681</td>\n      <td>0.120344</td>\n      <td>-0.000813</td>\n      <td>0.937923</td>\n      <td>0.204198</td>\n      <td>-0.091091</td>\n      <td>1.000000</td>\n    </tr>\n  </tbody>\n</table>\n</div>"
     },
     "execution_count": 70,
     "metadata": {},
     "output_type": "execute_result"
    }
   ],
   "source": [
    "df.corr()"
   ],
   "metadata": {
    "collapsed": false,
    "pycharm": {
     "name": "#%%\n"
    }
   }
  },
  {
   "cell_type": "code",
   "execution_count": 83,
   "outputs": [],
   "source": [
    "x_train, x_test, y_train, y_test = train_test_split(x, y, test_size=0.2, shuffle=False)"
   ],
   "metadata": {
    "collapsed": false,
    "pycharm": {
     "name": "#%%\n"
    }
   }
  },
  {
   "cell_type": "code",
   "execution_count": 84,
   "outputs": [
    {
     "data": {
      "text/plain": "array([[ 3.  ,  0.  ,  4.  ,  0.  ,  2.17,  1.  ],\n       [ 0.  ,  0.  ,  1.  ,  0.  ,  2.33,  1.  ],\n       [ 0.  ,  0.  ,  0.  ,  0.  ,  2.17,  1.  ],\n       ...,\n       [ 3.  ,  1.  ,  3.  ,  1.  , 24.33, 31.  ],\n       [ 1.  ,  1.  ,  3.  ,  1.  ,  6.58, 31.  ],\n       [ 2.  ,  1.  ,  4.  ,  1.  ,  7.17, 31.  ]])"
     },
     "execution_count": 84,
     "metadata": {},
     "output_type": "execute_result"
    }
   ],
   "source": [
    "x_train"
   ],
   "metadata": {
    "collapsed": false,
    "pycharm": {
     "name": "#%%\n"
    }
   }
  },
  {
   "cell_type": "code",
   "execution_count": 87,
   "outputs": [
    {
     "data": {
      "text/plain": "array([ 5953,  5953,  5956, ..., 53634, 58125, 58125], dtype=int64)"
     },
     "execution_count": 87,
     "metadata": {},
     "output_type": "execute_result"
    }
   ],
   "source": [
    "y_train"
   ],
   "metadata": {
    "collapsed": false,
    "pycharm": {
     "name": "#%%\n"
    }
   }
  },
  {
   "cell_type": "code",
   "execution_count": null,
   "outputs": [],
   "source": [
    "coefficients = np.zeros(6)\n",
    "print(coefficients)"
   ],
   "metadata": {
    "collapsed": false,
    "pycharm": {
     "name": "#%%\n",
     "is_executing": true
    }
   }
  },
  {
   "cell_type": "code",
   "execution_count": 37,
   "outputs": [
    {
     "data": {
      "text/plain": "  Category  b\n0        A  1\n1        B  1\n2        A  1\n3        C  1\n4        B  1",
      "text/html": "<div>\n<style scoped>\n    .dataframe tbody tr th:only-of-type {\n        vertical-align: middle;\n    }\n\n    .dataframe tbody tr th {\n        vertical-align: top;\n    }\n\n    .dataframe thead th {\n        text-align: right;\n    }\n</style>\n<table border=\"1\" class=\"dataframe\">\n  <thead>\n    <tr style=\"text-align: right;\">\n      <th></th>\n      <th>Category</th>\n      <th>b</th>\n    </tr>\n  </thead>\n  <tbody>\n    <tr>\n      <th>0</th>\n      <td>A</td>\n      <td>1</td>\n    </tr>\n    <tr>\n      <th>1</th>\n      <td>B</td>\n      <td>1</td>\n    </tr>\n    <tr>\n      <th>2</th>\n      <td>A</td>\n      <td>1</td>\n    </tr>\n    <tr>\n      <th>3</th>\n      <td>C</td>\n      <td>1</td>\n    </tr>\n    <tr>\n      <th>4</th>\n      <td>B</td>\n      <td>1</td>\n    </tr>\n  </tbody>\n</table>\n</div>"
     },
     "execution_count": 37,
     "metadata": {},
     "output_type": "execute_result"
    }
   ],
   "source": [],
   "metadata": {
    "collapsed": false,
    "pycharm": {
     "name": "#%%\n"
    }
   }
  },
  {
   "cell_type": "code",
   "execution_count": null,
   "outputs": [],
   "source": [
    "x = df.iloc[0:, 0:6]\n",
    "# x = np.array(x)\n",
    "# # x = (x - x.mean()) / x.std()\n",
    "# x = pd.DataFrame(x)\n",
    "x['b'] = 1\n",
    "x"
   ],
   "metadata": {
    "collapsed": false,
    "pycharm": {
     "name": "#%%\n"
    }
   }
  }
 ],
 "metadata": {
  "kernelspec": {
   "display_name": "Python 3",
   "language": "python",
   "name": "python3"
  },
  "language_info": {
   "codemirror_mode": {
    "name": "ipython",
    "version": 2
   },
   "file_extension": ".py",
   "mimetype": "text/x-python",
   "name": "python",
   "nbconvert_exporter": "python",
   "pygments_lexer": "ipython2",
   "version": "2.7.6"
  }
 },
 "nbformat": 4,
 "nbformat_minor": 0
}