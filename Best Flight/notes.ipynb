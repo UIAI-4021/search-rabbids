{
 "cells": [
  {
   "cell_type": "code",
   "execution_count": 10,
   "metadata": {
    "collapsed": true,
    "pycharm": {
     "name": "#%%\n"
    }
   },
   "outputs": [],
   "source": [
    "import pandas as pd\n",
    "df = pd.read_csv(\"Flight_Data.csv\")\n"
   ]
  },
  {
   "cell_type": "code",
   "execution_count": 33,
   "outputs": [],
   "source": [
    "data2 = df.drop(columns='Airline')\n"
   ],
   "metadata": {
    "collapsed": false,
    "pycharm": {
     "name": "#%%\n"
    }
   }
  },
  {
   "cell_type": "code",
   "execution_count": 41,
   "outputs": [],
   "source": [
    "df2 = data2.drop_duplicates(keep = 'first')"
   ],
   "metadata": {
    "collapsed": false,
    "pycharm": {
     "name": "#%%\n"
    }
   }
  },
  {
   "cell_type": "code",
   "execution_count": 42,
   "outputs": [
    {
     "data": {
      "text/plain": "                                        SourceAirport  \\\n0                 Sabiha Gökçen International Airport   \n2                       Atatürk International Airport   \n3                         Dubai International Airport   \n4                     Abu Dhabi International Airport   \n5                       Sharjah International Airport   \n...                                               ...   \n12845  Boeing Field King County International Airport   \n12846  Boeing Field King County International Airport   \n12847       William R Fairchild International Airport   \n12848                           Friday Harbor Airport   \n12849                            Orcas Island Airport   \n\n                                   DestinationAirport SourceAirport_City  \\\n0                 Imam Khomeini International Airport           Istanbul   \n2                 Imam Khomeini International Airport           Istanbul   \n3                 Imam Khomeini International Airport              Dubai   \n4                 Imam Khomeini International Airport          Abu Dhabi   \n5                 Imam Khomeini International Airport            Sharjah   \n...                                               ...                ...   \n12845       William R Fairchild International Airport            Seattle   \n12846                            Orcas Island Airport            Seattle   \n12847  Boeing Field King County International Airport       Port Angeles   \n12848  Boeing Field King County International Airport      Friday Harbor   \n12849                           Friday Harbor Airport          Eastsound   \n\n      SourceAirport_Country  SourceAirport_Latitude  SourceAirport_Longitude  \\\n0                    Turkey               40.898602                29.309200   \n2                    Turkey               40.976898                28.814600   \n3      United Arab Emirates               25.252800                55.364399   \n4      United Arab Emirates               24.433001                54.651100   \n5      United Arab Emirates               25.328600                55.517200   \n...                     ...                     ...                      ...   \n12845         United States               47.529999              -122.302002   \n12846         United States               47.529999              -122.302002   \n12847         United States               48.120201              -123.500000   \n12848         United States               48.521999              -123.024002   \n12849         United States               48.708199              -122.910004   \n\n       SourceAirport_Altitude DestinationAirport_City  \\\n0                         312                  Tehran   \n2                         163                  Tehran   \n3                          62                  Tehran   \n4                          88                  Tehran   \n5                         111                  Tehran   \n...                       ...                     ...   \n12845                      21            Port Angeles   \n12846                      21               Eastsound   \n12847                     291                 Seattle   \n12848                     113                 Seattle   \n12849                      31           Friday Harbor   \n\n      DestinationAirport_Country  DestinationAirport_Latitude  \\\n0                           Iran                    35.416100   \n2                           Iran                    35.416100   \n3                           Iran                    35.416100   \n4                           Iran                    35.416100   \n5                           Iran                    35.416100   \n...                          ...                          ...   \n12845              United States                    48.120201   \n12846              United States                    48.708199   \n12847              United States                    47.529999   \n12848              United States                    47.529999   \n12849              United States                    48.521999   \n\n       DestinationAirport_Longitude  DestinationAirport_Altitude     Distance  \\\n0                         51.152199                         3305  1998.541333   \n2                         51.152199                         3305  2040.978811   \n3                         51.152199                         3305  1199.863567   \n4                         51.152199                         3305  1266.681453   \n5                         51.152199                         3305  1196.902147   \n...                             ...                          ...          ...   \n12845                   -123.500000                          291   110.930397   \n12846                   -122.910004                           31   138.564899   \n12847                   -122.302002                           21   110.930397   \n12848                   -122.302002                           21   122.677708   \n12849                   -123.024002                          113    22.336108   \n\n        FlyTime       Price  \n0      2.982660  969.270667  \n2      3.035377  990.489405  \n3      1.990514  569.931784  \n4      2.073517  603.340726  \n5      1.986835  568.451073  \n...         ...         ...  \n12845  0.637802   25.465199  \n12846  0.672130   39.282450  \n12847  0.637802   25.465199  \n12848  0.652395   31.338854  \n12849  0.527747  -18.831946  \n\n[6836 rows x 15 columns]",
      "text/html": "<div>\n<style scoped>\n    .dataframe tbody tr th:only-of-type {\n        vertical-align: middle;\n    }\n\n    .dataframe tbody tr th {\n        vertical-align: top;\n    }\n\n    .dataframe thead th {\n        text-align: right;\n    }\n</style>\n<table border=\"1\" class=\"dataframe\">\n  <thead>\n    <tr style=\"text-align: right;\">\n      <th></th>\n      <th>SourceAirport</th>\n      <th>DestinationAirport</th>\n      <th>SourceAirport_City</th>\n      <th>SourceAirport_Country</th>\n      <th>SourceAirport_Latitude</th>\n      <th>SourceAirport_Longitude</th>\n      <th>SourceAirport_Altitude</th>\n      <th>DestinationAirport_City</th>\n      <th>DestinationAirport_Country</th>\n      <th>DestinationAirport_Latitude</th>\n      <th>DestinationAirport_Longitude</th>\n      <th>DestinationAirport_Altitude</th>\n      <th>Distance</th>\n      <th>FlyTime</th>\n      <th>Price</th>\n    </tr>\n  </thead>\n  <tbody>\n    <tr>\n      <th>0</th>\n      <td>Sabiha Gökçen International Airport</td>\n      <td>Imam Khomeini International Airport</td>\n      <td>Istanbul</td>\n      <td>Turkey</td>\n      <td>40.898602</td>\n      <td>29.309200</td>\n      <td>312</td>\n      <td>Tehran</td>\n      <td>Iran</td>\n      <td>35.416100</td>\n      <td>51.152199</td>\n      <td>3305</td>\n      <td>1998.541333</td>\n      <td>2.982660</td>\n      <td>969.270667</td>\n    </tr>\n    <tr>\n      <th>2</th>\n      <td>Atatürk International Airport</td>\n      <td>Imam Khomeini International Airport</td>\n      <td>Istanbul</td>\n      <td>Turkey</td>\n      <td>40.976898</td>\n      <td>28.814600</td>\n      <td>163</td>\n      <td>Tehran</td>\n      <td>Iran</td>\n      <td>35.416100</td>\n      <td>51.152199</td>\n      <td>3305</td>\n      <td>2040.978811</td>\n      <td>3.035377</td>\n      <td>990.489405</td>\n    </tr>\n    <tr>\n      <th>3</th>\n      <td>Dubai International Airport</td>\n      <td>Imam Khomeini International Airport</td>\n      <td>Dubai</td>\n      <td>United Arab Emirates</td>\n      <td>25.252800</td>\n      <td>55.364399</td>\n      <td>62</td>\n      <td>Tehran</td>\n      <td>Iran</td>\n      <td>35.416100</td>\n      <td>51.152199</td>\n      <td>3305</td>\n      <td>1199.863567</td>\n      <td>1.990514</td>\n      <td>569.931784</td>\n    </tr>\n    <tr>\n      <th>4</th>\n      <td>Abu Dhabi International Airport</td>\n      <td>Imam Khomeini International Airport</td>\n      <td>Abu Dhabi</td>\n      <td>United Arab Emirates</td>\n      <td>24.433001</td>\n      <td>54.651100</td>\n      <td>88</td>\n      <td>Tehran</td>\n      <td>Iran</td>\n      <td>35.416100</td>\n      <td>51.152199</td>\n      <td>3305</td>\n      <td>1266.681453</td>\n      <td>2.073517</td>\n      <td>603.340726</td>\n    </tr>\n    <tr>\n      <th>5</th>\n      <td>Sharjah International Airport</td>\n      <td>Imam Khomeini International Airport</td>\n      <td>Sharjah</td>\n      <td>United Arab Emirates</td>\n      <td>25.328600</td>\n      <td>55.517200</td>\n      <td>111</td>\n      <td>Tehran</td>\n      <td>Iran</td>\n      <td>35.416100</td>\n      <td>51.152199</td>\n      <td>3305</td>\n      <td>1196.902147</td>\n      <td>1.986835</td>\n      <td>568.451073</td>\n    </tr>\n    <tr>\n      <th>...</th>\n      <td>...</td>\n      <td>...</td>\n      <td>...</td>\n      <td>...</td>\n      <td>...</td>\n      <td>...</td>\n      <td>...</td>\n      <td>...</td>\n      <td>...</td>\n      <td>...</td>\n      <td>...</td>\n      <td>...</td>\n      <td>...</td>\n      <td>...</td>\n      <td>...</td>\n    </tr>\n    <tr>\n      <th>12845</th>\n      <td>Boeing Field King County International Airport</td>\n      <td>William R Fairchild International Airport</td>\n      <td>Seattle</td>\n      <td>United States</td>\n      <td>47.529999</td>\n      <td>-122.302002</td>\n      <td>21</td>\n      <td>Port Angeles</td>\n      <td>United States</td>\n      <td>48.120201</td>\n      <td>-123.500000</td>\n      <td>291</td>\n      <td>110.930397</td>\n      <td>0.637802</td>\n      <td>25.465199</td>\n    </tr>\n    <tr>\n      <th>12846</th>\n      <td>Boeing Field King County International Airport</td>\n      <td>Orcas Island Airport</td>\n      <td>Seattle</td>\n      <td>United States</td>\n      <td>47.529999</td>\n      <td>-122.302002</td>\n      <td>21</td>\n      <td>Eastsound</td>\n      <td>United States</td>\n      <td>48.708199</td>\n      <td>-122.910004</td>\n      <td>31</td>\n      <td>138.564899</td>\n      <td>0.672130</td>\n      <td>39.282450</td>\n    </tr>\n    <tr>\n      <th>12847</th>\n      <td>William R Fairchild International Airport</td>\n      <td>Boeing Field King County International Airport</td>\n      <td>Port Angeles</td>\n      <td>United States</td>\n      <td>48.120201</td>\n      <td>-123.500000</td>\n      <td>291</td>\n      <td>Seattle</td>\n      <td>United States</td>\n      <td>47.529999</td>\n      <td>-122.302002</td>\n      <td>21</td>\n      <td>110.930397</td>\n      <td>0.637802</td>\n      <td>25.465199</td>\n    </tr>\n    <tr>\n      <th>12848</th>\n      <td>Friday Harbor Airport</td>\n      <td>Boeing Field King County International Airport</td>\n      <td>Friday Harbor</td>\n      <td>United States</td>\n      <td>48.521999</td>\n      <td>-123.024002</td>\n      <td>113</td>\n      <td>Seattle</td>\n      <td>United States</td>\n      <td>47.529999</td>\n      <td>-122.302002</td>\n      <td>21</td>\n      <td>122.677708</td>\n      <td>0.652395</td>\n      <td>31.338854</td>\n    </tr>\n    <tr>\n      <th>12849</th>\n      <td>Orcas Island Airport</td>\n      <td>Friday Harbor Airport</td>\n      <td>Eastsound</td>\n      <td>United States</td>\n      <td>48.708199</td>\n      <td>-122.910004</td>\n      <td>31</td>\n      <td>Friday Harbor</td>\n      <td>United States</td>\n      <td>48.521999</td>\n      <td>-123.024002</td>\n      <td>113</td>\n      <td>22.336108</td>\n      <td>0.527747</td>\n      <td>-18.831946</td>\n    </tr>\n  </tbody>\n</table>\n<p>6836 rows × 15 columns</p>\n</div>"
     },
     "execution_count": 42,
     "metadata": {},
     "output_type": "execute_result"
    }
   ],
   "source": [
    "df2"
   ],
   "metadata": {
    "collapsed": false,
    "pycharm": {
     "name": "#%%\n"
    }
   }
  },
  {
   "cell_type": "code",
   "execution_count": 36,
   "outputs": [],
   "source": [
    "extracted_col = df[\"Airline\"]"
   ],
   "metadata": {
    "collapsed": false,
    "pycharm": {
     "name": "#%%\n"
    }
   }
  },
  {
   "cell_type": "code",
   "execution_count": 43,
   "outputs": [],
   "source": [
    "df2.insert(0, 'Airline', extracted_col)"
   ],
   "metadata": {
    "collapsed": false,
    "pycharm": {
     "name": "#%%\n"
    }
   }
  },
  {
   "cell_type": "code",
   "execution_count": 44,
   "outputs": [
    {
     "data": {
      "text/plain": "                Airline                                   SourceAirport  \\\n0      Pegasus Airlines             Sabiha Gökçen International Airport   \n2      Turkish Airlines                   Atatürk International Airport   \n3              Emirates                     Dubai International Airport   \n4        Etihad Airways                 Abu Dhabi International Airport   \n5            Air Arabia                   Sharjah International Airport   \n...                 ...                                             ...   \n12845       Kenmore Air  Boeing Field King County International Airport   \n12846       Kenmore Air  Boeing Field King County International Airport   \n12847       Kenmore Air       William R Fairchild International Airport   \n12848       Kenmore Air                           Friday Harbor Airport   \n12849       Kenmore Air                            Orcas Island Airport   \n\n                                   DestinationAirport SourceAirport_City  \\\n0                 Imam Khomeini International Airport           Istanbul   \n2                 Imam Khomeini International Airport           Istanbul   \n3                 Imam Khomeini International Airport              Dubai   \n4                 Imam Khomeini International Airport          Abu Dhabi   \n5                 Imam Khomeini International Airport            Sharjah   \n...                                               ...                ...   \n12845       William R Fairchild International Airport            Seattle   \n12846                            Orcas Island Airport            Seattle   \n12847  Boeing Field King County International Airport       Port Angeles   \n12848  Boeing Field King County International Airport      Friday Harbor   \n12849                           Friday Harbor Airport          Eastsound   \n\n      SourceAirport_Country  SourceAirport_Latitude  SourceAirport_Longitude  \\\n0                    Turkey               40.898602                29.309200   \n2                    Turkey               40.976898                28.814600   \n3      United Arab Emirates               25.252800                55.364399   \n4      United Arab Emirates               24.433001                54.651100   \n5      United Arab Emirates               25.328600                55.517200   \n...                     ...                     ...                      ...   \n12845         United States               47.529999              -122.302002   \n12846         United States               47.529999              -122.302002   \n12847         United States               48.120201              -123.500000   \n12848         United States               48.521999              -123.024002   \n12849         United States               48.708199              -122.910004   \n\n       SourceAirport_Altitude DestinationAirport_City  \\\n0                         312                  Tehran   \n2                         163                  Tehran   \n3                          62                  Tehran   \n4                          88                  Tehran   \n5                         111                  Tehran   \n...                       ...                     ...   \n12845                      21            Port Angeles   \n12846                      21               Eastsound   \n12847                     291                 Seattle   \n12848                     113                 Seattle   \n12849                      31           Friday Harbor   \n\n      DestinationAirport_Country  DestinationAirport_Latitude  \\\n0                           Iran                    35.416100   \n2                           Iran                    35.416100   \n3                           Iran                    35.416100   \n4                           Iran                    35.416100   \n5                           Iran                    35.416100   \n...                          ...                          ...   \n12845              United States                    48.120201   \n12846              United States                    48.708199   \n12847              United States                    47.529999   \n12848              United States                    47.529999   \n12849              United States                    48.521999   \n\n       DestinationAirport_Longitude  DestinationAirport_Altitude     Distance  \\\n0                         51.152199                         3305  1998.541333   \n2                         51.152199                         3305  2040.978811   \n3                         51.152199                         3305  1199.863567   \n4                         51.152199                         3305  1266.681453   \n5                         51.152199                         3305  1196.902147   \n...                             ...                          ...          ...   \n12845                   -123.500000                          291   110.930397   \n12846                   -122.910004                           31   138.564899   \n12847                   -122.302002                           21   110.930397   \n12848                   -122.302002                           21   122.677708   \n12849                   -123.024002                          113    22.336108   \n\n        FlyTime       Price  \n0      2.982660  969.270667  \n2      3.035377  990.489405  \n3      1.990514  569.931784  \n4      2.073517  603.340726  \n5      1.986835  568.451073  \n...         ...         ...  \n12845  0.637802   25.465199  \n12846  0.672130   39.282450  \n12847  0.637802   25.465199  \n12848  0.652395   31.338854  \n12849  0.527747  -18.831946  \n\n[6836 rows x 16 columns]",
      "text/html": "<div>\n<style scoped>\n    .dataframe tbody tr th:only-of-type {\n        vertical-align: middle;\n    }\n\n    .dataframe tbody tr th {\n        vertical-align: top;\n    }\n\n    .dataframe thead th {\n        text-align: right;\n    }\n</style>\n<table border=\"1\" class=\"dataframe\">\n  <thead>\n    <tr style=\"text-align: right;\">\n      <th></th>\n      <th>Airline</th>\n      <th>SourceAirport</th>\n      <th>DestinationAirport</th>\n      <th>SourceAirport_City</th>\n      <th>SourceAirport_Country</th>\n      <th>SourceAirport_Latitude</th>\n      <th>SourceAirport_Longitude</th>\n      <th>SourceAirport_Altitude</th>\n      <th>DestinationAirport_City</th>\n      <th>DestinationAirport_Country</th>\n      <th>DestinationAirport_Latitude</th>\n      <th>DestinationAirport_Longitude</th>\n      <th>DestinationAirport_Altitude</th>\n      <th>Distance</th>\n      <th>FlyTime</th>\n      <th>Price</th>\n    </tr>\n  </thead>\n  <tbody>\n    <tr>\n      <th>0</th>\n      <td>Pegasus Airlines</td>\n      <td>Sabiha Gökçen International Airport</td>\n      <td>Imam Khomeini International Airport</td>\n      <td>Istanbul</td>\n      <td>Turkey</td>\n      <td>40.898602</td>\n      <td>29.309200</td>\n      <td>312</td>\n      <td>Tehran</td>\n      <td>Iran</td>\n      <td>35.416100</td>\n      <td>51.152199</td>\n      <td>3305</td>\n      <td>1998.541333</td>\n      <td>2.982660</td>\n      <td>969.270667</td>\n    </tr>\n    <tr>\n      <th>2</th>\n      <td>Turkish Airlines</td>\n      <td>Atatürk International Airport</td>\n      <td>Imam Khomeini International Airport</td>\n      <td>Istanbul</td>\n      <td>Turkey</td>\n      <td>40.976898</td>\n      <td>28.814600</td>\n      <td>163</td>\n      <td>Tehran</td>\n      <td>Iran</td>\n      <td>35.416100</td>\n      <td>51.152199</td>\n      <td>3305</td>\n      <td>2040.978811</td>\n      <td>3.035377</td>\n      <td>990.489405</td>\n    </tr>\n    <tr>\n      <th>3</th>\n      <td>Emirates</td>\n      <td>Dubai International Airport</td>\n      <td>Imam Khomeini International Airport</td>\n      <td>Dubai</td>\n      <td>United Arab Emirates</td>\n      <td>25.252800</td>\n      <td>55.364399</td>\n      <td>62</td>\n      <td>Tehran</td>\n      <td>Iran</td>\n      <td>35.416100</td>\n      <td>51.152199</td>\n      <td>3305</td>\n      <td>1199.863567</td>\n      <td>1.990514</td>\n      <td>569.931784</td>\n    </tr>\n    <tr>\n      <th>4</th>\n      <td>Etihad Airways</td>\n      <td>Abu Dhabi International Airport</td>\n      <td>Imam Khomeini International Airport</td>\n      <td>Abu Dhabi</td>\n      <td>United Arab Emirates</td>\n      <td>24.433001</td>\n      <td>54.651100</td>\n      <td>88</td>\n      <td>Tehran</td>\n      <td>Iran</td>\n      <td>35.416100</td>\n      <td>51.152199</td>\n      <td>3305</td>\n      <td>1266.681453</td>\n      <td>2.073517</td>\n      <td>603.340726</td>\n    </tr>\n    <tr>\n      <th>5</th>\n      <td>Air Arabia</td>\n      <td>Sharjah International Airport</td>\n      <td>Imam Khomeini International Airport</td>\n      <td>Sharjah</td>\n      <td>United Arab Emirates</td>\n      <td>25.328600</td>\n      <td>55.517200</td>\n      <td>111</td>\n      <td>Tehran</td>\n      <td>Iran</td>\n      <td>35.416100</td>\n      <td>51.152199</td>\n      <td>3305</td>\n      <td>1196.902147</td>\n      <td>1.986835</td>\n      <td>568.451073</td>\n    </tr>\n    <tr>\n      <th>...</th>\n      <td>...</td>\n      <td>...</td>\n      <td>...</td>\n      <td>...</td>\n      <td>...</td>\n      <td>...</td>\n      <td>...</td>\n      <td>...</td>\n      <td>...</td>\n      <td>...</td>\n      <td>...</td>\n      <td>...</td>\n      <td>...</td>\n      <td>...</td>\n      <td>...</td>\n      <td>...</td>\n    </tr>\n    <tr>\n      <th>12845</th>\n      <td>Kenmore Air</td>\n      <td>Boeing Field King County International Airport</td>\n      <td>William R Fairchild International Airport</td>\n      <td>Seattle</td>\n      <td>United States</td>\n      <td>47.529999</td>\n      <td>-122.302002</td>\n      <td>21</td>\n      <td>Port Angeles</td>\n      <td>United States</td>\n      <td>48.120201</td>\n      <td>-123.500000</td>\n      <td>291</td>\n      <td>110.930397</td>\n      <td>0.637802</td>\n      <td>25.465199</td>\n    </tr>\n    <tr>\n      <th>12846</th>\n      <td>Kenmore Air</td>\n      <td>Boeing Field King County International Airport</td>\n      <td>Orcas Island Airport</td>\n      <td>Seattle</td>\n      <td>United States</td>\n      <td>47.529999</td>\n      <td>-122.302002</td>\n      <td>21</td>\n      <td>Eastsound</td>\n      <td>United States</td>\n      <td>48.708199</td>\n      <td>-122.910004</td>\n      <td>31</td>\n      <td>138.564899</td>\n      <td>0.672130</td>\n      <td>39.282450</td>\n    </tr>\n    <tr>\n      <th>12847</th>\n      <td>Kenmore Air</td>\n      <td>William R Fairchild International Airport</td>\n      <td>Boeing Field King County International Airport</td>\n      <td>Port Angeles</td>\n      <td>United States</td>\n      <td>48.120201</td>\n      <td>-123.500000</td>\n      <td>291</td>\n      <td>Seattle</td>\n      <td>United States</td>\n      <td>47.529999</td>\n      <td>-122.302002</td>\n      <td>21</td>\n      <td>110.930397</td>\n      <td>0.637802</td>\n      <td>25.465199</td>\n    </tr>\n    <tr>\n      <th>12848</th>\n      <td>Kenmore Air</td>\n      <td>Friday Harbor Airport</td>\n      <td>Boeing Field King County International Airport</td>\n      <td>Friday Harbor</td>\n      <td>United States</td>\n      <td>48.521999</td>\n      <td>-123.024002</td>\n      <td>113</td>\n      <td>Seattle</td>\n      <td>United States</td>\n      <td>47.529999</td>\n      <td>-122.302002</td>\n      <td>21</td>\n      <td>122.677708</td>\n      <td>0.652395</td>\n      <td>31.338854</td>\n    </tr>\n    <tr>\n      <th>12849</th>\n      <td>Kenmore Air</td>\n      <td>Orcas Island Airport</td>\n      <td>Friday Harbor Airport</td>\n      <td>Eastsound</td>\n      <td>United States</td>\n      <td>48.708199</td>\n      <td>-122.910004</td>\n      <td>31</td>\n      <td>Friday Harbor</td>\n      <td>United States</td>\n      <td>48.521999</td>\n      <td>-123.024002</td>\n      <td>113</td>\n      <td>22.336108</td>\n      <td>0.527747</td>\n      <td>-18.831946</td>\n    </tr>\n  </tbody>\n</table>\n<p>6836 rows × 16 columns</p>\n</div>"
     },
     "execution_count": 44,
     "metadata": {},
     "output_type": "execute_result"
    }
   ],
   "source": [
    "df2"
   ],
   "metadata": {
    "collapsed": false,
    "pycharm": {
     "name": "#%%\n"
    }
   }
  },
  {
   "cell_type": "code",
   "execution_count": null,
   "outputs": [],
   "source": [],
   "metadata": {
    "collapsed": false,
    "pycharm": {
     "name": "#%%\n"
    }
   }
  }
 ],
 "metadata": {
  "kernelspec": {
   "display_name": "Python 3",
   "language": "python",
   "name": "python3"
  },
  "language_info": {
   "codemirror_mode": {
    "name": "ipython",
    "version": 2
   },
   "file_extension": ".py",
   "mimetype": "text/x-python",
   "name": "python",
   "nbconvert_exporter": "python",
   "pygments_lexer": "ipython2",
   "version": "2.7.6"
  }
 },
 "nbformat": 4,
 "nbformat_minor": 0
}