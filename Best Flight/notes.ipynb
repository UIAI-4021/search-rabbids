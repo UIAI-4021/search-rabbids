{
 "cells": [
  {
   "cell_type": "code",
   "execution_count": 2,
   "metadata": {
    "collapsed": true,
    "pycharm": {
     "name": "#%%\n"
    }
   },
   "outputs": [],
   "source": [
    "import pandas as pd\n",
    "df = pd.read_csv(\"Flight_Data.csv\")\n"
   ]
  },
  {
   "cell_type": "code",
   "execution_count": 3,
   "outputs": [],
   "source": [
    "data2 = df.drop(columns='Airline')\n"
   ],
   "metadata": {
    "collapsed": false,
    "pycharm": {
     "name": "#%%\n"
    }
   }
  },
  {
   "cell_type": "code",
   "execution_count": 4,
   "outputs": [],
   "source": [
    "df2 = data2.drop_duplicates(keep = 'first')"
   ],
   "metadata": {
    "collapsed": false,
    "pycharm": {
     "name": "#%%\n"
    }
   }
  },
  {
   "cell_type": "code",
   "execution_count": 5,
   "outputs": [
    {
     "data": {
      "text/plain": "                                       SourceAirport  \\\n0                Sabiha Gökçen International Airport   \n1                      Atatürk International Airport   \n2                        Dubai International Airport   \n3                    Abu Dhabi International Airport   \n4                      Sharjah International Airport   \n...                                              ...   \n6831  Boeing Field King County International Airport   \n6832  Boeing Field King County International Airport   \n6833       William R Fairchild International Airport   \n6834                           Friday Harbor Airport   \n6835                            Orcas Island Airport   \n\n                                  DestinationAirport SourceAirport_City  \\\n0                Imam Khomeini International Airport           Istanbul   \n1                Imam Khomeini International Airport           Istanbul   \n2                Imam Khomeini International Airport              Dubai   \n3                Imam Khomeini International Airport          Abu Dhabi   \n4                Imam Khomeini International Airport            Sharjah   \n...                                              ...                ...   \n6831       William R Fairchild International Airport            Seattle   \n6832                            Orcas Island Airport            Seattle   \n6833  Boeing Field King County International Airport       Port Angeles   \n6834  Boeing Field King County International Airport      Friday Harbor   \n6835                           Friday Harbor Airport          Eastsound   \n\n     SourceAirport_Country  SourceAirport_Latitude  SourceAirport_Longitude  \\\n0                   Turkey               40.898602                29.309200   \n1                   Turkey               40.976898                28.814600   \n2     United Arab Emirates               25.252800                55.364399   \n3     United Arab Emirates               24.433001                54.651100   \n4     United Arab Emirates               25.328600                55.517200   \n...                    ...                     ...                      ...   \n6831         United States               47.529999              -122.302002   \n6832         United States               47.529999              -122.302002   \n6833         United States               48.120201              -123.500000   \n6834         United States               48.521999              -123.024002   \n6835         United States               48.708199              -122.910004   \n\n      SourceAirport_Altitude DestinationAirport_City  \\\n0                        312                  Tehran   \n1                        163                  Tehran   \n2                         62                  Tehran   \n3                         88                  Tehran   \n4                        111                  Tehran   \n...                      ...                     ...   \n6831                      21            Port Angeles   \n6832                      21               Eastsound   \n6833                     291                 Seattle   \n6834                     113                 Seattle   \n6835                      31           Friday Harbor   \n\n     DestinationAirport_Country  DestinationAirport_Latitude  \\\n0                          Iran                    35.416100   \n1                          Iran                    35.416100   \n2                          Iran                    35.416100   \n3                          Iran                    35.416100   \n4                          Iran                    35.416100   \n...                         ...                          ...   \n6831              United States                    48.120201   \n6832              United States                    48.708199   \n6833              United States                    47.529999   \n6834              United States                    47.529999   \n6835              United States                    48.521999   \n\n      DestinationAirport_Longitude  DestinationAirport_Altitude     Distance  \\\n0                        51.152199                         3305  1998.541333   \n1                        51.152199                         3305  2040.978811   \n2                        51.152199                         3305  1199.863567   \n3                        51.152199                         3305  1266.681453   \n4                        51.152199                         3305  1196.902147   \n...                            ...                          ...          ...   \n6831                   -123.500000                          291   110.930397   \n6832                   -122.910004                           31   138.564899   \n6833                   -122.302002                           21   110.930397   \n6834                   -122.302002                           21   122.677708   \n6835                   -123.024002                          113    22.336108   \n\n       FlyTime       Price  \n0     2.624833  271.489760  \n1     2.882362  300.589499  \n2     1.536046  210.215879  \n3     2.144199  175.864733  \n4     1.772627  174.332843  \n...        ...         ...  \n6831  0.161072   31.661891  \n6832  0.899144   26.201671  \n6833  0.751768   99.285196  \n6834  1.119010   19.599675  \n6835  0.561618   85.342779  \n\n[6836 rows x 15 columns]",
      "text/html": "<div>\n<style scoped>\n    .dataframe tbody tr th:only-of-type {\n        vertical-align: middle;\n    }\n\n    .dataframe tbody tr th {\n        vertical-align: top;\n    }\n\n    .dataframe thead th {\n        text-align: right;\n    }\n</style>\n<table border=\"1\" class=\"dataframe\">\n  <thead>\n    <tr style=\"text-align: right;\">\n      <th></th>\n      <th>SourceAirport</th>\n      <th>DestinationAirport</th>\n      <th>SourceAirport_City</th>\n      <th>SourceAirport_Country</th>\n      <th>SourceAirport_Latitude</th>\n      <th>SourceAirport_Longitude</th>\n      <th>SourceAirport_Altitude</th>\n      <th>DestinationAirport_City</th>\n      <th>DestinationAirport_Country</th>\n      <th>DestinationAirport_Latitude</th>\n      <th>DestinationAirport_Longitude</th>\n      <th>DestinationAirport_Altitude</th>\n      <th>Distance</th>\n      <th>FlyTime</th>\n      <th>Price</th>\n    </tr>\n  </thead>\n  <tbody>\n    <tr>\n      <th>0</th>\n      <td>Sabiha Gökçen International Airport</td>\n      <td>Imam Khomeini International Airport</td>\n      <td>Istanbul</td>\n      <td>Turkey</td>\n      <td>40.898602</td>\n      <td>29.309200</td>\n      <td>312</td>\n      <td>Tehran</td>\n      <td>Iran</td>\n      <td>35.416100</td>\n      <td>51.152199</td>\n      <td>3305</td>\n      <td>1998.541333</td>\n      <td>2.624833</td>\n      <td>271.489760</td>\n    </tr>\n    <tr>\n      <th>1</th>\n      <td>Atatürk International Airport</td>\n      <td>Imam Khomeini International Airport</td>\n      <td>Istanbul</td>\n      <td>Turkey</td>\n      <td>40.976898</td>\n      <td>28.814600</td>\n      <td>163</td>\n      <td>Tehran</td>\n      <td>Iran</td>\n      <td>35.416100</td>\n      <td>51.152199</td>\n      <td>3305</td>\n      <td>2040.978811</td>\n      <td>2.882362</td>\n      <td>300.589499</td>\n    </tr>\n    <tr>\n      <th>2</th>\n      <td>Dubai International Airport</td>\n      <td>Imam Khomeini International Airport</td>\n      <td>Dubai</td>\n      <td>United Arab Emirates</td>\n      <td>25.252800</td>\n      <td>55.364399</td>\n      <td>62</td>\n      <td>Tehran</td>\n      <td>Iran</td>\n      <td>35.416100</td>\n      <td>51.152199</td>\n      <td>3305</td>\n      <td>1199.863567</td>\n      <td>1.536046</td>\n      <td>210.215879</td>\n    </tr>\n    <tr>\n      <th>3</th>\n      <td>Abu Dhabi International Airport</td>\n      <td>Imam Khomeini International Airport</td>\n      <td>Abu Dhabi</td>\n      <td>United Arab Emirates</td>\n      <td>24.433001</td>\n      <td>54.651100</td>\n      <td>88</td>\n      <td>Tehran</td>\n      <td>Iran</td>\n      <td>35.416100</td>\n      <td>51.152199</td>\n      <td>3305</td>\n      <td>1266.681453</td>\n      <td>2.144199</td>\n      <td>175.864733</td>\n    </tr>\n    <tr>\n      <th>4</th>\n      <td>Sharjah International Airport</td>\n      <td>Imam Khomeini International Airport</td>\n      <td>Sharjah</td>\n      <td>United Arab Emirates</td>\n      <td>25.328600</td>\n      <td>55.517200</td>\n      <td>111</td>\n      <td>Tehran</td>\n      <td>Iran</td>\n      <td>35.416100</td>\n      <td>51.152199</td>\n      <td>3305</td>\n      <td>1196.902147</td>\n      <td>1.772627</td>\n      <td>174.332843</td>\n    </tr>\n    <tr>\n      <th>...</th>\n      <td>...</td>\n      <td>...</td>\n      <td>...</td>\n      <td>...</td>\n      <td>...</td>\n      <td>...</td>\n      <td>...</td>\n      <td>...</td>\n      <td>...</td>\n      <td>...</td>\n      <td>...</td>\n      <td>...</td>\n      <td>...</td>\n      <td>...</td>\n      <td>...</td>\n    </tr>\n    <tr>\n      <th>6831</th>\n      <td>Boeing Field King County International Airport</td>\n      <td>William R Fairchild International Airport</td>\n      <td>Seattle</td>\n      <td>United States</td>\n      <td>47.529999</td>\n      <td>-122.302002</td>\n      <td>21</td>\n      <td>Port Angeles</td>\n      <td>United States</td>\n      <td>48.120201</td>\n      <td>-123.500000</td>\n      <td>291</td>\n      <td>110.930397</td>\n      <td>0.161072</td>\n      <td>31.661891</td>\n    </tr>\n    <tr>\n      <th>6832</th>\n      <td>Boeing Field King County International Airport</td>\n      <td>Orcas Island Airport</td>\n      <td>Seattle</td>\n      <td>United States</td>\n      <td>47.529999</td>\n      <td>-122.302002</td>\n      <td>21</td>\n      <td>Eastsound</td>\n      <td>United States</td>\n      <td>48.708199</td>\n      <td>-122.910004</td>\n      <td>31</td>\n      <td>138.564899</td>\n      <td>0.899144</td>\n      <td>26.201671</td>\n    </tr>\n    <tr>\n      <th>6833</th>\n      <td>William R Fairchild International Airport</td>\n      <td>Boeing Field King County International Airport</td>\n      <td>Port Angeles</td>\n      <td>United States</td>\n      <td>48.120201</td>\n      <td>-123.500000</td>\n      <td>291</td>\n      <td>Seattle</td>\n      <td>United States</td>\n      <td>47.529999</td>\n      <td>-122.302002</td>\n      <td>21</td>\n      <td>110.930397</td>\n      <td>0.751768</td>\n      <td>99.285196</td>\n    </tr>\n    <tr>\n      <th>6834</th>\n      <td>Friday Harbor Airport</td>\n      <td>Boeing Field King County International Airport</td>\n      <td>Friday Harbor</td>\n      <td>United States</td>\n      <td>48.521999</td>\n      <td>-123.024002</td>\n      <td>113</td>\n      <td>Seattle</td>\n      <td>United States</td>\n      <td>47.529999</td>\n      <td>-122.302002</td>\n      <td>21</td>\n      <td>122.677708</td>\n      <td>1.119010</td>\n      <td>19.599675</td>\n    </tr>\n    <tr>\n      <th>6835</th>\n      <td>Orcas Island Airport</td>\n      <td>Friday Harbor Airport</td>\n      <td>Eastsound</td>\n      <td>United States</td>\n      <td>48.708199</td>\n      <td>-122.910004</td>\n      <td>31</td>\n      <td>Friday Harbor</td>\n      <td>United States</td>\n      <td>48.521999</td>\n      <td>-123.024002</td>\n      <td>113</td>\n      <td>22.336108</td>\n      <td>0.561618</td>\n      <td>85.342779</td>\n    </tr>\n  </tbody>\n</table>\n<p>6836 rows × 15 columns</p>\n</div>"
     },
     "execution_count": 5,
     "metadata": {},
     "output_type": "execute_result"
    }
   ],
   "source": [
    "df2"
   ],
   "metadata": {
    "collapsed": false,
    "pycharm": {
     "name": "#%%\n"
    }
   }
  },
  {
   "cell_type": "code",
   "execution_count": 6,
   "outputs": [],
   "source": [
    "extracted_col = df[\"Airline\"]"
   ],
   "metadata": {
    "collapsed": false,
    "pycharm": {
     "name": "#%%\n"
    }
   }
  },
  {
   "cell_type": "code",
   "execution_count": 7,
   "outputs": [],
   "source": [
    "df2.insert(0, 'Airline', extracted_col)"
   ],
   "metadata": {
    "collapsed": false,
    "pycharm": {
     "name": "#%%\n"
    }
   }
  },
  {
   "cell_type": "code",
   "execution_count": 8,
   "outputs": [
    {
     "data": {
      "text/plain": "               Airline                                   SourceAirport  \\\n0     Pegasus Airlines             Sabiha Gökçen International Airport   \n1     Turkish Airlines                   Atatürk International Airport   \n2             Emirates                     Dubai International Airport   \n3       Etihad Airways                 Abu Dhabi International Airport   \n4           Air Arabia                   Sharjah International Airport   \n...                ...                                             ...   \n6831       Kenmore Air  Boeing Field King County International Airport   \n6832       Kenmore Air  Boeing Field King County International Airport   \n6833       Kenmore Air       William R Fairchild International Airport   \n6834       Kenmore Air                           Friday Harbor Airport   \n6835       Kenmore Air                            Orcas Island Airport   \n\n                                  DestinationAirport SourceAirport_City  \\\n0                Imam Khomeini International Airport           Istanbul   \n1                Imam Khomeini International Airport           Istanbul   \n2                Imam Khomeini International Airport              Dubai   \n3                Imam Khomeini International Airport          Abu Dhabi   \n4                Imam Khomeini International Airport            Sharjah   \n...                                              ...                ...   \n6831       William R Fairchild International Airport            Seattle   \n6832                            Orcas Island Airport            Seattle   \n6833  Boeing Field King County International Airport       Port Angeles   \n6834  Boeing Field King County International Airport      Friday Harbor   \n6835                           Friday Harbor Airport          Eastsound   \n\n     SourceAirport_Country  SourceAirport_Latitude  SourceAirport_Longitude  \\\n0                   Turkey               40.898602                29.309200   \n1                   Turkey               40.976898                28.814600   \n2     United Arab Emirates               25.252800                55.364399   \n3     United Arab Emirates               24.433001                54.651100   \n4     United Arab Emirates               25.328600                55.517200   \n...                    ...                     ...                      ...   \n6831         United States               47.529999              -122.302002   \n6832         United States               47.529999              -122.302002   \n6833         United States               48.120201              -123.500000   \n6834         United States               48.521999              -123.024002   \n6835         United States               48.708199              -122.910004   \n\n      SourceAirport_Altitude DestinationAirport_City  \\\n0                        312                  Tehran   \n1                        163                  Tehran   \n2                         62                  Tehran   \n3                         88                  Tehran   \n4                        111                  Tehran   \n...                      ...                     ...   \n6831                      21            Port Angeles   \n6832                      21               Eastsound   \n6833                     291                 Seattle   \n6834                     113                 Seattle   \n6835                      31           Friday Harbor   \n\n     DestinationAirport_Country  DestinationAirport_Latitude  \\\n0                          Iran                    35.416100   \n1                          Iran                    35.416100   \n2                          Iran                    35.416100   \n3                          Iran                    35.416100   \n4                          Iran                    35.416100   \n...                         ...                          ...   \n6831              United States                    48.120201   \n6832              United States                    48.708199   \n6833              United States                    47.529999   \n6834              United States                    47.529999   \n6835              United States                    48.521999   \n\n      DestinationAirport_Longitude  DestinationAirport_Altitude     Distance  \\\n0                        51.152199                         3305  1998.541333   \n1                        51.152199                         3305  2040.978811   \n2                        51.152199                         3305  1199.863567   \n3                        51.152199                         3305  1266.681453   \n4                        51.152199                         3305  1196.902147   \n...                            ...                          ...          ...   \n6831                   -123.500000                          291   110.930397   \n6832                   -122.910004                           31   138.564899   \n6833                   -122.302002                           21   110.930397   \n6834                   -122.302002                           21   122.677708   \n6835                   -123.024002                          113    22.336108   \n\n       FlyTime       Price  \n0     2.624833  271.489760  \n1     2.882362  300.589499  \n2     1.536046  210.215879  \n3     2.144199  175.864733  \n4     1.772627  174.332843  \n...        ...         ...  \n6831  0.161072   31.661891  \n6832  0.899144   26.201671  \n6833  0.751768   99.285196  \n6834  1.119010   19.599675  \n6835  0.561618   85.342779  \n\n[6836 rows x 16 columns]",
      "text/html": "<div>\n<style scoped>\n    .dataframe tbody tr th:only-of-type {\n        vertical-align: middle;\n    }\n\n    .dataframe tbody tr th {\n        vertical-align: top;\n    }\n\n    .dataframe thead th {\n        text-align: right;\n    }\n</style>\n<table border=\"1\" class=\"dataframe\">\n  <thead>\n    <tr style=\"text-align: right;\">\n      <th></th>\n      <th>Airline</th>\n      <th>SourceAirport</th>\n      <th>DestinationAirport</th>\n      <th>SourceAirport_City</th>\n      <th>SourceAirport_Country</th>\n      <th>SourceAirport_Latitude</th>\n      <th>SourceAirport_Longitude</th>\n      <th>SourceAirport_Altitude</th>\n      <th>DestinationAirport_City</th>\n      <th>DestinationAirport_Country</th>\n      <th>DestinationAirport_Latitude</th>\n      <th>DestinationAirport_Longitude</th>\n      <th>DestinationAirport_Altitude</th>\n      <th>Distance</th>\n      <th>FlyTime</th>\n      <th>Price</th>\n    </tr>\n  </thead>\n  <tbody>\n    <tr>\n      <th>0</th>\n      <td>Pegasus Airlines</td>\n      <td>Sabiha Gökçen International Airport</td>\n      <td>Imam Khomeini International Airport</td>\n      <td>Istanbul</td>\n      <td>Turkey</td>\n      <td>40.898602</td>\n      <td>29.309200</td>\n      <td>312</td>\n      <td>Tehran</td>\n      <td>Iran</td>\n      <td>35.416100</td>\n      <td>51.152199</td>\n      <td>3305</td>\n      <td>1998.541333</td>\n      <td>2.624833</td>\n      <td>271.489760</td>\n    </tr>\n    <tr>\n      <th>1</th>\n      <td>Turkish Airlines</td>\n      <td>Atatürk International Airport</td>\n      <td>Imam Khomeini International Airport</td>\n      <td>Istanbul</td>\n      <td>Turkey</td>\n      <td>40.976898</td>\n      <td>28.814600</td>\n      <td>163</td>\n      <td>Tehran</td>\n      <td>Iran</td>\n      <td>35.416100</td>\n      <td>51.152199</td>\n      <td>3305</td>\n      <td>2040.978811</td>\n      <td>2.882362</td>\n      <td>300.589499</td>\n    </tr>\n    <tr>\n      <th>2</th>\n      <td>Emirates</td>\n      <td>Dubai International Airport</td>\n      <td>Imam Khomeini International Airport</td>\n      <td>Dubai</td>\n      <td>United Arab Emirates</td>\n      <td>25.252800</td>\n      <td>55.364399</td>\n      <td>62</td>\n      <td>Tehran</td>\n      <td>Iran</td>\n      <td>35.416100</td>\n      <td>51.152199</td>\n      <td>3305</td>\n      <td>1199.863567</td>\n      <td>1.536046</td>\n      <td>210.215879</td>\n    </tr>\n    <tr>\n      <th>3</th>\n      <td>Etihad Airways</td>\n      <td>Abu Dhabi International Airport</td>\n      <td>Imam Khomeini International Airport</td>\n      <td>Abu Dhabi</td>\n      <td>United Arab Emirates</td>\n      <td>24.433001</td>\n      <td>54.651100</td>\n      <td>88</td>\n      <td>Tehran</td>\n      <td>Iran</td>\n      <td>35.416100</td>\n      <td>51.152199</td>\n      <td>3305</td>\n      <td>1266.681453</td>\n      <td>2.144199</td>\n      <td>175.864733</td>\n    </tr>\n    <tr>\n      <th>4</th>\n      <td>Air Arabia</td>\n      <td>Sharjah International Airport</td>\n      <td>Imam Khomeini International Airport</td>\n      <td>Sharjah</td>\n      <td>United Arab Emirates</td>\n      <td>25.328600</td>\n      <td>55.517200</td>\n      <td>111</td>\n      <td>Tehran</td>\n      <td>Iran</td>\n      <td>35.416100</td>\n      <td>51.152199</td>\n      <td>3305</td>\n      <td>1196.902147</td>\n      <td>1.772627</td>\n      <td>174.332843</td>\n    </tr>\n    <tr>\n      <th>...</th>\n      <td>...</td>\n      <td>...</td>\n      <td>...</td>\n      <td>...</td>\n      <td>...</td>\n      <td>...</td>\n      <td>...</td>\n      <td>...</td>\n      <td>...</td>\n      <td>...</td>\n      <td>...</td>\n      <td>...</td>\n      <td>...</td>\n      <td>...</td>\n      <td>...</td>\n      <td>...</td>\n    </tr>\n    <tr>\n      <th>6831</th>\n      <td>Kenmore Air</td>\n      <td>Boeing Field King County International Airport</td>\n      <td>William R Fairchild International Airport</td>\n      <td>Seattle</td>\n      <td>United States</td>\n      <td>47.529999</td>\n      <td>-122.302002</td>\n      <td>21</td>\n      <td>Port Angeles</td>\n      <td>United States</td>\n      <td>48.120201</td>\n      <td>-123.500000</td>\n      <td>291</td>\n      <td>110.930397</td>\n      <td>0.161072</td>\n      <td>31.661891</td>\n    </tr>\n    <tr>\n      <th>6832</th>\n      <td>Kenmore Air</td>\n      <td>Boeing Field King County International Airport</td>\n      <td>Orcas Island Airport</td>\n      <td>Seattle</td>\n      <td>United States</td>\n      <td>47.529999</td>\n      <td>-122.302002</td>\n      <td>21</td>\n      <td>Eastsound</td>\n      <td>United States</td>\n      <td>48.708199</td>\n      <td>-122.910004</td>\n      <td>31</td>\n      <td>138.564899</td>\n      <td>0.899144</td>\n      <td>26.201671</td>\n    </tr>\n    <tr>\n      <th>6833</th>\n      <td>Kenmore Air</td>\n      <td>William R Fairchild International Airport</td>\n      <td>Boeing Field King County International Airport</td>\n      <td>Port Angeles</td>\n      <td>United States</td>\n      <td>48.120201</td>\n      <td>-123.500000</td>\n      <td>291</td>\n      <td>Seattle</td>\n      <td>United States</td>\n      <td>47.529999</td>\n      <td>-122.302002</td>\n      <td>21</td>\n      <td>110.930397</td>\n      <td>0.751768</td>\n      <td>99.285196</td>\n    </tr>\n    <tr>\n      <th>6834</th>\n      <td>Kenmore Air</td>\n      <td>Friday Harbor Airport</td>\n      <td>Boeing Field King County International Airport</td>\n      <td>Friday Harbor</td>\n      <td>United States</td>\n      <td>48.521999</td>\n      <td>-123.024002</td>\n      <td>113</td>\n      <td>Seattle</td>\n      <td>United States</td>\n      <td>47.529999</td>\n      <td>-122.302002</td>\n      <td>21</td>\n      <td>122.677708</td>\n      <td>1.119010</td>\n      <td>19.599675</td>\n    </tr>\n    <tr>\n      <th>6835</th>\n      <td>Kenmore Air</td>\n      <td>Orcas Island Airport</td>\n      <td>Friday Harbor Airport</td>\n      <td>Eastsound</td>\n      <td>United States</td>\n      <td>48.708199</td>\n      <td>-122.910004</td>\n      <td>31</td>\n      <td>Friday Harbor</td>\n      <td>United States</td>\n      <td>48.521999</td>\n      <td>-123.024002</td>\n      <td>113</td>\n      <td>22.336108</td>\n      <td>0.561618</td>\n      <td>85.342779</td>\n    </tr>\n  </tbody>\n</table>\n<p>6836 rows × 16 columns</p>\n</div>"
     },
     "execution_count": 8,
     "metadata": {},
     "output_type": "execute_result"
    }
   ],
   "source": [
    "df2"
   ],
   "metadata": {
    "collapsed": false,
    "pycharm": {
     "name": "#%%\n"
    }
   }
  },
  {
   "cell_type": "code",
   "execution_count": null,
   "outputs": [],
   "source": [],
   "metadata": {
    "collapsed": false,
    "pycharm": {
     "name": "#%%\n"
    }
   }
  }
 ],
 "metadata": {
  "kernelspec": {
   "display_name": "Python 3",
   "language": "python",
   "name": "python3"
  },
  "language_info": {
   "codemirror_mode": {
    "name": "ipython",
    "version": 2
   },
   "file_extension": ".py",
   "mimetype": "text/x-python",
   "name": "python",
   "nbconvert_exporter": "python",
   "pygments_lexer": "ipython2",
   "version": "2.7.6"
  }
 },
 "nbformat": 4,
 "nbformat_minor": 0
}