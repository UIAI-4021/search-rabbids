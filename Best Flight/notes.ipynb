{
 "cells": [
  {
   "cell_type": "code",
   "execution_count": 2,
   "metadata": {
    "collapsed": true,
    "pycharm": {
     "name": "#%%\n"
    }
   },
   "outputs": [],
   "source": [
    "import pandas as pd\n",
    "df = pd.read_csv(\"Flight_Data(1).csv\")\n"
   ]
  },
  {
   "cell_type": "code",
   "execution_count": 3,
   "outputs": [],
   "source": [
    "data2 = df.drop(columns='Airline')\n"
   ],
   "metadata": {
    "collapsed": false,
    "pycharm": {
     "name": "#%%\n"
    }
   }
  },
  {
   "cell_type": "code",
   "execution_count": 4,
   "outputs": [],
   "source": [
    "df2 = data2.drop_duplicates(keep = 'first')"
   ],
   "metadata": {
    "collapsed": false,
    "pycharm": {
     "name": "#%%\n"
    }
   }
  },
  {
   "cell_type": "code",
   "execution_count": 5,
   "outputs": [
    {
     "data": {
      "text/plain": "                                       SourceAirport  \\\n0                Sabiha Gökçen International Airport   \n1                      Atatürk International Airport   \n2                        Dubai International Airport   \n3                    Abu Dhabi International Airport   \n4                      Sharjah International Airport   \n...                                              ...   \n6831  Boeing Field King County International Airport   \n6832  Boeing Field King County International Airport   \n6833       William R Fairchild International Airport   \n6834                           Friday Harbor Airport   \n6835                            Orcas Island Airport   \n\n                                  DestinationAirport SourceAirport_City  \\\n0                Imam Khomeini International Airport           Istanbul   \n1                Imam Khomeini International Airport           Istanbul   \n2                Imam Khomeini International Airport              Dubai   \n3                Imam Khomeini International Airport          Abu Dhabi   \n4                Imam Khomeini International Airport            Sharjah   \n...                                              ...                ...   \n6831       William R Fairchild International Airport            Seattle   \n6832                            Orcas Island Airport            Seattle   \n6833  Boeing Field King County International Airport       Port Angeles   \n6834  Boeing Field King County International Airport      Friday Harbor   \n6835                           Friday Harbor Airport          Eastsound   \n\n     SourceAirport_Country  SourceAirport_Latitude  SourceAirport_Longitude  \\\n0                   Turkey               40.898602                29.309200   \n1                   Turkey               40.976898                28.814600   \n2     United Arab Emirates               25.252800                55.364399   \n3     United Arab Emirates               24.433001                54.651100   \n4     United Arab Emirates               25.328600                55.517200   \n...                    ...                     ...                      ...   \n6831         United States               47.529999              -122.302002   \n6832         United States               47.529999              -122.302002   \n6833         United States               48.120201              -123.500000   \n6834         United States               48.521999              -123.024002   \n6835         United States               48.708199              -122.910004   \n\n      SourceAirport_Altitude DestinationAirport_City  \\\n0                        312                  Tehran   \n1                        163                  Tehran   \n2                         62                  Tehran   \n3                         88                  Tehran   \n4                        111                  Tehran   \n...                      ...                     ...   \n6831                      21            Port Angeles   \n6832                      21               Eastsound   \n6833                     291                 Seattle   \n6834                     113                 Seattle   \n6835                      31           Friday Harbor   \n\n     DestinationAirport_Country  DestinationAirport_Latitude  \\\n0                          Iran                    35.416100   \n1                          Iran                    35.416100   \n2                          Iran                    35.416100   \n3                          Iran                    35.416100   \n4                          Iran                    35.416100   \n...                         ...                          ...   \n6831              United States                    48.120201   \n6832              United States                    48.708199   \n6833              United States                    47.529999   \n6834              United States                    47.529999   \n6835              United States                    48.521999   \n\n      DestinationAirport_Longitude  DestinationAirport_Altitude     Distance  \\\n0                        51.152199                         3305  1998.541333   \n1                        51.152199                         3305  2040.978811   \n2                        51.152199                         3305  1199.863567   \n3                        51.152199                         3305  1266.681453   \n4                        51.152199                         3305  1196.902147   \n...                            ...                          ...          ...   \n6831                   -123.500000                          291   110.930397   \n6832                   -122.910004                           31   138.564899   \n6833                   -122.302002                           21   110.930397   \n6834                   -122.302002                           21   122.677708   \n6835                   -123.024002                          113    22.336108   \n\n       FlyTime       Price  \n0     2.624833  271.489760  \n1     2.882362  300.589499  \n2     1.536046  210.215879  \n3     2.144199  175.864733  \n4     1.772627  174.332843  \n...        ...         ...  \n6831  0.161072   31.661891  \n6832  0.899144   26.201671  \n6833  0.751768   99.285196  \n6834  1.119010   19.599675  \n6835  0.561618   85.342779  \n\n[6836 rows x 15 columns]",
      "text/html": "<div>\n<style scoped>\n    .dataframe tbody tr th:only-of-type {\n        vertical-align: middle;\n    }\n\n    .dataframe tbody tr th {\n        vertical-align: top;\n    }\n\n    .dataframe thead th {\n        text-align: right;\n    }\n</style>\n<table border=\"1\" class=\"dataframe\">\n  <thead>\n    <tr style=\"text-align: right;\">\n      <th></th>\n      <th>SourceAirport</th>\n      <th>DestinationAirport</th>\n      <th>SourceAirport_City</th>\n      <th>SourceAirport_Country</th>\n      <th>SourceAirport_Latitude</th>\n      <th>SourceAirport_Longitude</th>\n      <th>SourceAirport_Altitude</th>\n      <th>DestinationAirport_City</th>\n      <th>DestinationAirport_Country</th>\n      <th>DestinationAirport_Latitude</th>\n      <th>DestinationAirport_Longitude</th>\n      <th>DestinationAirport_Altitude</th>\n      <th>Distance</th>\n      <th>FlyTime</th>\n      <th>Price</th>\n    </tr>\n  </thead>\n  <tbody>\n    <tr>\n      <th>0</th>\n      <td>Sabiha Gökçen International Airport</td>\n      <td>Imam Khomeini International Airport</td>\n      <td>Istanbul</td>\n      <td>Turkey</td>\n      <td>40.898602</td>\n      <td>29.309200</td>\n      <td>312</td>\n      <td>Tehran</td>\n      <td>Iran</td>\n      <td>35.416100</td>\n      <td>51.152199</td>\n      <td>3305</td>\n      <td>1998.541333</td>\n      <td>2.624833</td>\n      <td>271.489760</td>\n    </tr>\n    <tr>\n      <th>1</th>\n      <td>Atatürk International Airport</td>\n      <td>Imam Khomeini International Airport</td>\n      <td>Istanbul</td>\n      <td>Turkey</td>\n      <td>40.976898</td>\n      <td>28.814600</td>\n      <td>163</td>\n      <td>Tehran</td>\n      <td>Iran</td>\n      <td>35.416100</td>\n      <td>51.152199</td>\n      <td>3305</td>\n      <td>2040.978811</td>\n      <td>2.882362</td>\n      <td>300.589499</td>\n    </tr>\n    <tr>\n      <th>2</th>\n      <td>Dubai International Airport</td>\n      <td>Imam Khomeini International Airport</td>\n      <td>Dubai</td>\n      <td>United Arab Emirates</td>\n      <td>25.252800</td>\n      <td>55.364399</td>\n      <td>62</td>\n      <td>Tehran</td>\n      <td>Iran</td>\n      <td>35.416100</td>\n      <td>51.152199</td>\n      <td>3305</td>\n      <td>1199.863567</td>\n      <td>1.536046</td>\n      <td>210.215879</td>\n    </tr>\n    <tr>\n      <th>3</th>\n      <td>Abu Dhabi International Airport</td>\n      <td>Imam Khomeini International Airport</td>\n      <td>Abu Dhabi</td>\n      <td>United Arab Emirates</td>\n      <td>24.433001</td>\n      <td>54.651100</td>\n      <td>88</td>\n      <td>Tehran</td>\n      <td>Iran</td>\n      <td>35.416100</td>\n      <td>51.152199</td>\n      <td>3305</td>\n      <td>1266.681453</td>\n      <td>2.144199</td>\n      <td>175.864733</td>\n    </tr>\n    <tr>\n      <th>4</th>\n      <td>Sharjah International Airport</td>\n      <td>Imam Khomeini International Airport</td>\n      <td>Sharjah</td>\n      <td>United Arab Emirates</td>\n      <td>25.328600</td>\n      <td>55.517200</td>\n      <td>111</td>\n      <td>Tehran</td>\n      <td>Iran</td>\n      <td>35.416100</td>\n      <td>51.152199</td>\n      <td>3305</td>\n      <td>1196.902147</td>\n      <td>1.772627</td>\n      <td>174.332843</td>\n    </tr>\n    <tr>\n      <th>...</th>\n      <td>...</td>\n      <td>...</td>\n      <td>...</td>\n      <td>...</td>\n      <td>...</td>\n      <td>...</td>\n      <td>...</td>\n      <td>...</td>\n      <td>...</td>\n      <td>...</td>\n      <td>...</td>\n      <td>...</td>\n      <td>...</td>\n      <td>...</td>\n      <td>...</td>\n    </tr>\n    <tr>\n      <th>6831</th>\n      <td>Boeing Field King County International Airport</td>\n      <td>William R Fairchild International Airport</td>\n      <td>Seattle</td>\n      <td>United States</td>\n      <td>47.529999</td>\n      <td>-122.302002</td>\n      <td>21</td>\n      <td>Port Angeles</td>\n      <td>United States</td>\n      <td>48.120201</td>\n      <td>-123.500000</td>\n      <td>291</td>\n      <td>110.930397</td>\n      <td>0.161072</td>\n      <td>31.661891</td>\n    </tr>\n    <tr>\n      <th>6832</th>\n      <td>Boeing Field King County International Airport</td>\n      <td>Orcas Island Airport</td>\n      <td>Seattle</td>\n      <td>United States</td>\n      <td>47.529999</td>\n      <td>-122.302002</td>\n      <td>21</td>\n      <td>Eastsound</td>\n      <td>United States</td>\n      <td>48.708199</td>\n      <td>-122.910004</td>\n      <td>31</td>\n      <td>138.564899</td>\n      <td>0.899144</td>\n      <td>26.201671</td>\n    </tr>\n    <tr>\n      <th>6833</th>\n      <td>William R Fairchild International Airport</td>\n      <td>Boeing Field King County International Airport</td>\n      <td>Port Angeles</td>\n      <td>United States</td>\n      <td>48.120201</td>\n      <td>-123.500000</td>\n      <td>291</td>\n      <td>Seattle</td>\n      <td>United States</td>\n      <td>47.529999</td>\n      <td>-122.302002</td>\n      <td>21</td>\n      <td>110.930397</td>\n      <td>0.751768</td>\n      <td>99.285196</td>\n    </tr>\n    <tr>\n      <th>6834</th>\n      <td>Friday Harbor Airport</td>\n      <td>Boeing Field King County International Airport</td>\n      <td>Friday Harbor</td>\n      <td>United States</td>\n      <td>48.521999</td>\n      <td>-123.024002</td>\n      <td>113</td>\n      <td>Seattle</td>\n      <td>United States</td>\n      <td>47.529999</td>\n      <td>-122.302002</td>\n      <td>21</td>\n      <td>122.677708</td>\n      <td>1.119010</td>\n      <td>19.599675</td>\n    </tr>\n    <tr>\n      <th>6835</th>\n      <td>Orcas Island Airport</td>\n      <td>Friday Harbor Airport</td>\n      <td>Eastsound</td>\n      <td>United States</td>\n      <td>48.708199</td>\n      <td>-122.910004</td>\n      <td>31</td>\n      <td>Friday Harbor</td>\n      <td>United States</td>\n      <td>48.521999</td>\n      <td>-123.024002</td>\n      <td>113</td>\n      <td>22.336108</td>\n      <td>0.561618</td>\n      <td>85.342779</td>\n    </tr>\n  </tbody>\n</table>\n<p>6836 rows × 15 columns</p>\n</div>"
     },
     "execution_count": 5,
     "metadata": {},
     "output_type": "execute_result"
    }
   ],
   "source": [
    "df2"
   ],
   "metadata": {
    "collapsed": false,
    "pycharm": {
     "name": "#%%\n"
    }
   }
  },
  {
   "cell_type": "code",
   "execution_count": 6,
   "outputs": [],
   "source": [
    "extracted_col = df[\"Airline\"]"
   ],
   "metadata": {
    "collapsed": false,
    "pycharm": {
     "name": "#%%\n"
    }
   }
  },
  {
   "cell_type": "code",
   "execution_count": 7,
   "outputs": [],
   "source": [
    "df2.insert(0, 'Airline', extracted_col)"
   ],
   "metadata": {
    "collapsed": false,
    "pycharm": {
     "name": "#%%\n"
    }
   }
  },
  {
   "cell_type": "code",
   "execution_count": 8,
   "outputs": [
    {
     "data": {
      "text/plain": "               Airline                                   SourceAirport  \\\n0     Pegasus Airlines             Sabiha Gökçen International Airport   \n1     Turkish Airlines                   Atatürk International Airport   \n2             Emirates                     Dubai International Airport   \n3       Etihad Airways                 Abu Dhabi International Airport   \n4           Air Arabia                   Sharjah International Airport   \n...                ...                                             ...   \n6831       Kenmore Air  Boeing Field King County International Airport   \n6832       Kenmore Air  Boeing Field King County International Airport   \n6833       Kenmore Air       William R Fairchild International Airport   \n6834       Kenmore Air                           Friday Harbor Airport   \n6835       Kenmore Air                            Orcas Island Airport   \n\n                                  DestinationAirport SourceAirport_City  \\\n0                Imam Khomeini International Airport           Istanbul   \n1                Imam Khomeini International Airport           Istanbul   \n2                Imam Khomeini International Airport              Dubai   \n3                Imam Khomeini International Airport          Abu Dhabi   \n4                Imam Khomeini International Airport            Sharjah   \n...                                              ...                ...   \n6831       William R Fairchild International Airport            Seattle   \n6832                            Orcas Island Airport            Seattle   \n6833  Boeing Field King County International Airport       Port Angeles   \n6834  Boeing Field King County International Airport      Friday Harbor   \n6835                           Friday Harbor Airport          Eastsound   \n\n     SourceAirport_Country  SourceAirport_Latitude  SourceAirport_Longitude  \\\n0                   Turkey               40.898602                29.309200   \n1                   Turkey               40.976898                28.814600   \n2     United Arab Emirates               25.252800                55.364399   \n3     United Arab Emirates               24.433001                54.651100   \n4     United Arab Emirates               25.328600                55.517200   \n...                    ...                     ...                      ...   \n6831         United States               47.529999              -122.302002   \n6832         United States               47.529999              -122.302002   \n6833         United States               48.120201              -123.500000   \n6834         United States               48.521999              -123.024002   \n6835         United States               48.708199              -122.910004   \n\n      SourceAirport_Altitude DestinationAirport_City  \\\n0                        312                  Tehran   \n1                        163                  Tehran   \n2                         62                  Tehran   \n3                         88                  Tehran   \n4                        111                  Tehran   \n...                      ...                     ...   \n6831                      21            Port Angeles   \n6832                      21               Eastsound   \n6833                     291                 Seattle   \n6834                     113                 Seattle   \n6835                      31           Friday Harbor   \n\n     DestinationAirport_Country  DestinationAirport_Latitude  \\\n0                          Iran                    35.416100   \n1                          Iran                    35.416100   \n2                          Iran                    35.416100   \n3                          Iran                    35.416100   \n4                          Iran                    35.416100   \n...                         ...                          ...   \n6831              United States                    48.120201   \n6832              United States                    48.708199   \n6833              United States                    47.529999   \n6834              United States                    47.529999   \n6835              United States                    48.521999   \n\n      DestinationAirport_Longitude  DestinationAirport_Altitude     Distance  \\\n0                        51.152199                         3305  1998.541333   \n1                        51.152199                         3305  2040.978811   \n2                        51.152199                         3305  1199.863567   \n3                        51.152199                         3305  1266.681453   \n4                        51.152199                         3305  1196.902147   \n...                            ...                          ...          ...   \n6831                   -123.500000                          291   110.930397   \n6832                   -122.910004                           31   138.564899   \n6833                   -122.302002                           21   110.930397   \n6834                   -122.302002                           21   122.677708   \n6835                   -123.024002                          113    22.336108   \n\n       FlyTime       Price  \n0     2.624833  271.489760  \n1     2.882362  300.589499  \n2     1.536046  210.215879  \n3     2.144199  175.864733  \n4     1.772627  174.332843  \n...        ...         ...  \n6831  0.161072   31.661891  \n6832  0.899144   26.201671  \n6833  0.751768   99.285196  \n6834  1.119010   19.599675  \n6835  0.561618   85.342779  \n\n[6836 rows x 16 columns]",
      "text/html": "<div>\n<style scoped>\n    .dataframe tbody tr th:only-of-type {\n        vertical-align: middle;\n    }\n\n    .dataframe tbody tr th {\n        vertical-align: top;\n    }\n\n    .dataframe thead th {\n        text-align: right;\n    }\n</style>\n<table border=\"1\" class=\"dataframe\">\n  <thead>\n    <tr style=\"text-align: right;\">\n      <th></th>\n      <th>Airline</th>\n      <th>SourceAirport</th>\n      <th>DestinationAirport</th>\n      <th>SourceAirport_City</th>\n      <th>SourceAirport_Country</th>\n      <th>SourceAirport_Latitude</th>\n      <th>SourceAirport_Longitude</th>\n      <th>SourceAirport_Altitude</th>\n      <th>DestinationAirport_City</th>\n      <th>DestinationAirport_Country</th>\n      <th>DestinationAirport_Latitude</th>\n      <th>DestinationAirport_Longitude</th>\n      <th>DestinationAirport_Altitude</th>\n      <th>Distance</th>\n      <th>FlyTime</th>\n      <th>Price</th>\n    </tr>\n  </thead>\n  <tbody>\n    <tr>\n      <th>0</th>\n      <td>Pegasus Airlines</td>\n      <td>Sabiha Gökçen International Airport</td>\n      <td>Imam Khomeini International Airport</td>\n      <td>Istanbul</td>\n      <td>Turkey</td>\n      <td>40.898602</td>\n      <td>29.309200</td>\n      <td>312</td>\n      <td>Tehran</td>\n      <td>Iran</td>\n      <td>35.416100</td>\n      <td>51.152199</td>\n      <td>3305</td>\n      <td>1998.541333</td>\n      <td>2.624833</td>\n      <td>271.489760</td>\n    </tr>\n    <tr>\n      <th>1</th>\n      <td>Turkish Airlines</td>\n      <td>Atatürk International Airport</td>\n      <td>Imam Khomeini International Airport</td>\n      <td>Istanbul</td>\n      <td>Turkey</td>\n      <td>40.976898</td>\n      <td>28.814600</td>\n      <td>163</td>\n      <td>Tehran</td>\n      <td>Iran</td>\n      <td>35.416100</td>\n      <td>51.152199</td>\n      <td>3305</td>\n      <td>2040.978811</td>\n      <td>2.882362</td>\n      <td>300.589499</td>\n    </tr>\n    <tr>\n      <th>2</th>\n      <td>Emirates</td>\n      <td>Dubai International Airport</td>\n      <td>Imam Khomeini International Airport</td>\n      <td>Dubai</td>\n      <td>United Arab Emirates</td>\n      <td>25.252800</td>\n      <td>55.364399</td>\n      <td>62</td>\n      <td>Tehran</td>\n      <td>Iran</td>\n      <td>35.416100</td>\n      <td>51.152199</td>\n      <td>3305</td>\n      <td>1199.863567</td>\n      <td>1.536046</td>\n      <td>210.215879</td>\n    </tr>\n    <tr>\n      <th>3</th>\n      <td>Etihad Airways</td>\n      <td>Abu Dhabi International Airport</td>\n      <td>Imam Khomeini International Airport</td>\n      <td>Abu Dhabi</td>\n      <td>United Arab Emirates</td>\n      <td>24.433001</td>\n      <td>54.651100</td>\n      <td>88</td>\n      <td>Tehran</td>\n      <td>Iran</td>\n      <td>35.416100</td>\n      <td>51.152199</td>\n      <td>3305</td>\n      <td>1266.681453</td>\n      <td>2.144199</td>\n      <td>175.864733</td>\n    </tr>\n    <tr>\n      <th>4</th>\n      <td>Air Arabia</td>\n      <td>Sharjah International Airport</td>\n      <td>Imam Khomeini International Airport</td>\n      <td>Sharjah</td>\n      <td>United Arab Emirates</td>\n      <td>25.328600</td>\n      <td>55.517200</td>\n      <td>111</td>\n      <td>Tehran</td>\n      <td>Iran</td>\n      <td>35.416100</td>\n      <td>51.152199</td>\n      <td>3305</td>\n      <td>1196.902147</td>\n      <td>1.772627</td>\n      <td>174.332843</td>\n    </tr>\n    <tr>\n      <th>...</th>\n      <td>...</td>\n      <td>...</td>\n      <td>...</td>\n      <td>...</td>\n      <td>...</td>\n      <td>...</td>\n      <td>...</td>\n      <td>...</td>\n      <td>...</td>\n      <td>...</td>\n      <td>...</td>\n      <td>...</td>\n      <td>...</td>\n      <td>...</td>\n      <td>...</td>\n      <td>...</td>\n    </tr>\n    <tr>\n      <th>6831</th>\n      <td>Kenmore Air</td>\n      <td>Boeing Field King County International Airport</td>\n      <td>William R Fairchild International Airport</td>\n      <td>Seattle</td>\n      <td>United States</td>\n      <td>47.529999</td>\n      <td>-122.302002</td>\n      <td>21</td>\n      <td>Port Angeles</td>\n      <td>United States</td>\n      <td>48.120201</td>\n      <td>-123.500000</td>\n      <td>291</td>\n      <td>110.930397</td>\n      <td>0.161072</td>\n      <td>31.661891</td>\n    </tr>\n    <tr>\n      <th>6832</th>\n      <td>Kenmore Air</td>\n      <td>Boeing Field King County International Airport</td>\n      <td>Orcas Island Airport</td>\n      <td>Seattle</td>\n      <td>United States</td>\n      <td>47.529999</td>\n      <td>-122.302002</td>\n      <td>21</td>\n      <td>Eastsound</td>\n      <td>United States</td>\n      <td>48.708199</td>\n      <td>-122.910004</td>\n      <td>31</td>\n      <td>138.564899</td>\n      <td>0.899144</td>\n      <td>26.201671</td>\n    </tr>\n    <tr>\n      <th>6833</th>\n      <td>Kenmore Air</td>\n      <td>William R Fairchild International Airport</td>\n      <td>Boeing Field King County International Airport</td>\n      <td>Port Angeles</td>\n      <td>United States</td>\n      <td>48.120201</td>\n      <td>-123.500000</td>\n      <td>291</td>\n      <td>Seattle</td>\n      <td>United States</td>\n      <td>47.529999</td>\n      <td>-122.302002</td>\n      <td>21</td>\n      <td>110.930397</td>\n      <td>0.751768</td>\n      <td>99.285196</td>\n    </tr>\n    <tr>\n      <th>6834</th>\n      <td>Kenmore Air</td>\n      <td>Friday Harbor Airport</td>\n      <td>Boeing Field King County International Airport</td>\n      <td>Friday Harbor</td>\n      <td>United States</td>\n      <td>48.521999</td>\n      <td>-123.024002</td>\n      <td>113</td>\n      <td>Seattle</td>\n      <td>United States</td>\n      <td>47.529999</td>\n      <td>-122.302002</td>\n      <td>21</td>\n      <td>122.677708</td>\n      <td>1.119010</td>\n      <td>19.599675</td>\n    </tr>\n    <tr>\n      <th>6835</th>\n      <td>Kenmore Air</td>\n      <td>Orcas Island Airport</td>\n      <td>Friday Harbor Airport</td>\n      <td>Eastsound</td>\n      <td>United States</td>\n      <td>48.708199</td>\n      <td>-122.910004</td>\n      <td>31</td>\n      <td>Friday Harbor</td>\n      <td>United States</td>\n      <td>48.521999</td>\n      <td>-123.024002</td>\n      <td>113</td>\n      <td>22.336108</td>\n      <td>0.561618</td>\n      <td>85.342779</td>\n    </tr>\n  </tbody>\n</table>\n<p>6836 rows × 16 columns</p>\n</div>"
     },
     "execution_count": 8,
     "metadata": {},
     "output_type": "execute_result"
    }
   ],
   "source": [
    "df2"
   ],
   "metadata": {
    "collapsed": false,
    "pycharm": {
     "name": "#%%\n"
    }
   }
  },
  {
   "cell_type": "markdown",
   "source": [],
   "metadata": {
    "collapsed": false,
    "pycharm": {
     "name": "#%% md\n"
    }
   }
  },
  {
   "cell_type": "code",
   "execution_count": 9,
   "outputs": [
    {
     "data": {
      "text/plain": "              Airline                         SourceAirport  \\\n125   JetBlue Airways  Salt Lake City International Airport   \n464        Air France  Salt Lake City International Airport   \n634   United Airlines  Salt Lake City International Airport   \n912   United Airlines  Salt Lake City International Airport   \n1081  United Airlines  Salt Lake City International Airport   \n...               ...                                   ...   \n6048  Delta Air Lines  Salt Lake City International Airport   \n6049  Delta Air Lines  Salt Lake City International Airport   \n6053  Delta Air Lines  Salt Lake City International Airport   \n6054  Delta Air Lines  Salt Lake City International Airport   \n6055  Delta Air Lines  Salt Lake City International Airport   \n\n                                    DestinationAirport SourceAirport_City  \\\n125               John F Kennedy International Airport     Salt Lake City   \n464   Hartsfield Jackson Atlanta International Airport     Salt Lake City   \n634                  Los Angeles International Airport     Salt Lake City   \n912       George Bush Intercontinental Houston Airport     Salt Lake City   \n1081              Chicago O'Hare International Airport     Salt Lake City   \n...                                                ...                ...   \n6048                             Elko Regional Airport     Salt Lake City   \n6049                 Lewiston Nez Perce County Airport     Salt Lake City   \n6053                        Pocatello Regional Airport     Salt Lake City   \n6054        Joslin Field Magic Valley Regional Airport     Salt Lake City   \n6055                           Vernal Regional Airport     Salt Lake City   \n\n     SourceAirport_Country  SourceAirport_Latitude  SourceAirport_Longitude  \\\n125          United States               40.788399              -111.977997   \n464          United States               40.788399              -111.977997   \n634          United States               40.788399              -111.977997   \n912          United States               40.788399              -111.977997   \n1081         United States               40.788399              -111.977997   \n...                    ...                     ...                      ...   \n6048         United States               40.788399              -111.977997   \n6049         United States               40.788399              -111.977997   \n6053         United States               40.788399              -111.977997   \n6054         United States               40.788399              -111.977997   \n6055         United States               40.788399              -111.977997   \n\n      SourceAirport_Altitude DestinationAirport_City  \\\n125                     4227                New York   \n464                     4227                 Atlanta   \n634                     4227             Los Angeles   \n912                     4227                 Houston   \n1081                    4227                 Chicago   \n...                      ...                     ...   \n6048                    4227                    Elko   \n6049                    4227                Lewiston   \n6053                    4227               Pocatello   \n6054                    4227              Twin Falls   \n6055                    4227                  Vernal   \n\n     DestinationAirport_Country  DestinationAirport_Latitude  \\\n125               United States                    40.639801   \n464               United States                    33.636700   \n634               United States                    33.942501   \n912               United States                    29.984400   \n1081              United States                    41.978600   \n...                         ...                          ...   \n6048              United States                    40.824902   \n6049              United States                    46.374500   \n6053              United States                    42.909801   \n6054              United States                    42.481800   \n6055              United States                    40.440899   \n\n      DestinationAirport_Longitude  DestinationAirport_Altitude     Distance  \\\n125                     -73.778900                           13  3193.601945   \n464                     -84.428101                         1026  2553.604188   \n634                    -118.407997                          125   949.316305   \n912                     -95.341400                           97  1922.348958   \n1081                    -87.904800                          672  2006.154825   \n...                            ...                          ...          ...   \n6048                   -115.792000                         5140   321.008086   \n6049                   -117.014999                         1442   741.552846   \n6053                   -112.596001                         4452   241.377317   \n6054                   -114.487999                         4154   280.988893   \n6055                   -109.510002                         5278   211.865581   \n\n       FlyTime       Price  \n125   4.329315  344.057574  \n464   3.533432  291.662621  \n634   2.160508  170.014502  \n912   2.576883  253.485532  \n1081  3.231188  222.277389  \n...        ...         ...  \n6048  0.982912   83.232741  \n6049  1.741143  132.677120  \n6053  0.607463   96.824274  \n6054  0.366677   40.623203  \n6055  0.871171   67.247125  \n\n[85 rows x 16 columns]",
      "text/html": "<div>\n<style scoped>\n    .dataframe tbody tr th:only-of-type {\n        vertical-align: middle;\n    }\n\n    .dataframe tbody tr th {\n        vertical-align: top;\n    }\n\n    .dataframe thead th {\n        text-align: right;\n    }\n</style>\n<table border=\"1\" class=\"dataframe\">\n  <thead>\n    <tr style=\"text-align: right;\">\n      <th></th>\n      <th>Airline</th>\n      <th>SourceAirport</th>\n      <th>DestinationAirport</th>\n      <th>SourceAirport_City</th>\n      <th>SourceAirport_Country</th>\n      <th>SourceAirport_Latitude</th>\n      <th>SourceAirport_Longitude</th>\n      <th>SourceAirport_Altitude</th>\n      <th>DestinationAirport_City</th>\n      <th>DestinationAirport_Country</th>\n      <th>DestinationAirport_Latitude</th>\n      <th>DestinationAirport_Longitude</th>\n      <th>DestinationAirport_Altitude</th>\n      <th>Distance</th>\n      <th>FlyTime</th>\n      <th>Price</th>\n    </tr>\n  </thead>\n  <tbody>\n    <tr>\n      <th>125</th>\n      <td>JetBlue Airways</td>\n      <td>Salt Lake City International Airport</td>\n      <td>John F Kennedy International Airport</td>\n      <td>Salt Lake City</td>\n      <td>United States</td>\n      <td>40.788399</td>\n      <td>-111.977997</td>\n      <td>4227</td>\n      <td>New York</td>\n      <td>United States</td>\n      <td>40.639801</td>\n      <td>-73.778900</td>\n      <td>13</td>\n      <td>3193.601945</td>\n      <td>4.329315</td>\n      <td>344.057574</td>\n    </tr>\n    <tr>\n      <th>464</th>\n      <td>Air France</td>\n      <td>Salt Lake City International Airport</td>\n      <td>Hartsfield Jackson Atlanta International Airport</td>\n      <td>Salt Lake City</td>\n      <td>United States</td>\n      <td>40.788399</td>\n      <td>-111.977997</td>\n      <td>4227</td>\n      <td>Atlanta</td>\n      <td>United States</td>\n      <td>33.636700</td>\n      <td>-84.428101</td>\n      <td>1026</td>\n      <td>2553.604188</td>\n      <td>3.533432</td>\n      <td>291.662621</td>\n    </tr>\n    <tr>\n      <th>634</th>\n      <td>United Airlines</td>\n      <td>Salt Lake City International Airport</td>\n      <td>Los Angeles International Airport</td>\n      <td>Salt Lake City</td>\n      <td>United States</td>\n      <td>40.788399</td>\n      <td>-111.977997</td>\n      <td>4227</td>\n      <td>Los Angeles</td>\n      <td>United States</td>\n      <td>33.942501</td>\n      <td>-118.407997</td>\n      <td>125</td>\n      <td>949.316305</td>\n      <td>2.160508</td>\n      <td>170.014502</td>\n    </tr>\n    <tr>\n      <th>912</th>\n      <td>United Airlines</td>\n      <td>Salt Lake City International Airport</td>\n      <td>George Bush Intercontinental Houston Airport</td>\n      <td>Salt Lake City</td>\n      <td>United States</td>\n      <td>40.788399</td>\n      <td>-111.977997</td>\n      <td>4227</td>\n      <td>Houston</td>\n      <td>United States</td>\n      <td>29.984400</td>\n      <td>-95.341400</td>\n      <td>97</td>\n      <td>1922.348958</td>\n      <td>2.576883</td>\n      <td>253.485532</td>\n    </tr>\n    <tr>\n      <th>1081</th>\n      <td>United Airlines</td>\n      <td>Salt Lake City International Airport</td>\n      <td>Chicago O'Hare International Airport</td>\n      <td>Salt Lake City</td>\n      <td>United States</td>\n      <td>40.788399</td>\n      <td>-111.977997</td>\n      <td>4227</td>\n      <td>Chicago</td>\n      <td>United States</td>\n      <td>41.978600</td>\n      <td>-87.904800</td>\n      <td>672</td>\n      <td>2006.154825</td>\n      <td>3.231188</td>\n      <td>222.277389</td>\n    </tr>\n    <tr>\n      <th>...</th>\n      <td>...</td>\n      <td>...</td>\n      <td>...</td>\n      <td>...</td>\n      <td>...</td>\n      <td>...</td>\n      <td>...</td>\n      <td>...</td>\n      <td>...</td>\n      <td>...</td>\n      <td>...</td>\n      <td>...</td>\n      <td>...</td>\n      <td>...</td>\n      <td>...</td>\n      <td>...</td>\n    </tr>\n    <tr>\n      <th>6048</th>\n      <td>Delta Air Lines</td>\n      <td>Salt Lake City International Airport</td>\n      <td>Elko Regional Airport</td>\n      <td>Salt Lake City</td>\n      <td>United States</td>\n      <td>40.788399</td>\n      <td>-111.977997</td>\n      <td>4227</td>\n      <td>Elko</td>\n      <td>United States</td>\n      <td>40.824902</td>\n      <td>-115.792000</td>\n      <td>5140</td>\n      <td>321.008086</td>\n      <td>0.982912</td>\n      <td>83.232741</td>\n    </tr>\n    <tr>\n      <th>6049</th>\n      <td>Delta Air Lines</td>\n      <td>Salt Lake City International Airport</td>\n      <td>Lewiston Nez Perce County Airport</td>\n      <td>Salt Lake City</td>\n      <td>United States</td>\n      <td>40.788399</td>\n      <td>-111.977997</td>\n      <td>4227</td>\n      <td>Lewiston</td>\n      <td>United States</td>\n      <td>46.374500</td>\n      <td>-117.014999</td>\n      <td>1442</td>\n      <td>741.552846</td>\n      <td>1.741143</td>\n      <td>132.677120</td>\n    </tr>\n    <tr>\n      <th>6053</th>\n      <td>Delta Air Lines</td>\n      <td>Salt Lake City International Airport</td>\n      <td>Pocatello Regional Airport</td>\n      <td>Salt Lake City</td>\n      <td>United States</td>\n      <td>40.788399</td>\n      <td>-111.977997</td>\n      <td>4227</td>\n      <td>Pocatello</td>\n      <td>United States</td>\n      <td>42.909801</td>\n      <td>-112.596001</td>\n      <td>4452</td>\n      <td>241.377317</td>\n      <td>0.607463</td>\n      <td>96.824274</td>\n    </tr>\n    <tr>\n      <th>6054</th>\n      <td>Delta Air Lines</td>\n      <td>Salt Lake City International Airport</td>\n      <td>Joslin Field Magic Valley Regional Airport</td>\n      <td>Salt Lake City</td>\n      <td>United States</td>\n      <td>40.788399</td>\n      <td>-111.977997</td>\n      <td>4227</td>\n      <td>Twin Falls</td>\n      <td>United States</td>\n      <td>42.481800</td>\n      <td>-114.487999</td>\n      <td>4154</td>\n      <td>280.988893</td>\n      <td>0.366677</td>\n      <td>40.623203</td>\n    </tr>\n    <tr>\n      <th>6055</th>\n      <td>Delta Air Lines</td>\n      <td>Salt Lake City International Airport</td>\n      <td>Vernal Regional Airport</td>\n      <td>Salt Lake City</td>\n      <td>United States</td>\n      <td>40.788399</td>\n      <td>-111.977997</td>\n      <td>4227</td>\n      <td>Vernal</td>\n      <td>United States</td>\n      <td>40.440899</td>\n      <td>-109.510002</td>\n      <td>5278</td>\n      <td>211.865581</td>\n      <td>0.871171</td>\n      <td>67.247125</td>\n    </tr>\n  </tbody>\n</table>\n<p>85 rows × 16 columns</p>\n</div>"
     },
     "execution_count": 9,
     "metadata": {},
     "output_type": "execute_result"
    }
   ],
   "source": [
    "df2[df2['SourceAirport'] == 'Salt Lake City International Airport']"
   ],
   "metadata": {
    "collapsed": false,
    "pycharm": {
     "name": "#%%\n"
    }
   }
  },
  {
   "cell_type": "code",
   "execution_count": 27,
   "outputs": [],
   "source": [
    "source_list = []\n",
    "for i in range(50):\n",
    "    source_list.append(df2.sample()['SourceAirport'].values[0])"
   ],
   "metadata": {
    "collapsed": false,
    "pycharm": {
     "name": "#%%\n"
    }
   }
  },
  {
   "cell_type": "code",
   "execution_count": 28,
   "outputs": [
    {
     "name": "stdout",
     "output_type": "stream",
     "text": [
      "['Dallas Fort Worth International Airport', 'Los Angeles International Airport', 'St Louis Lambert International Airport', 'Chicago Midway International Airport', 'Cleveland Hopkins International Airport', 'Los Angeles International Airport', 'Iqaluit Airport', 'Birmingham-Shuttlesworth International Airport', 'Fort Lauderdale Hollywood International Airport', 'Cleveland Hopkins International Airport', 'Ontario International Airport', 'Coral Harbour Airport', 'Bandar Abbas International Airport', 'Bethel Airport', 'Orlando International Airport', 'Nelson Lagoon Airport', 'Los Angeles International Airport', 'Shageluk Airport', 'Sept-Îles Airport', 'Richmond International Airport', 'Kwigillingok Airport', 'Lar Airport', 'Fort Wayne International Airport', 'Ambler Airport', 'Palm Beach International Airport', 'Denver International Airport', 'Denver International Airport', 'Manchester-Boston Regional Airport', 'Fort Yukon Airport', 'George Bush Intercontinental Houston Airport', 'Wichita Eisenhower National Airport', 'Philadelphia International Airport', 'Minneapolis-St Paul International/Wold-Chamberlain Airport', 'Kelowna International Airport', 'Regina International Airport', 'McCarran International Airport', 'George Bush Intercontinental Houston Airport', 'James M Cox Dayton International Airport', 'Nulato Airport', 'Will Rogers World Airport', 'Calgary International Airport', 'Wales Airport', 'Minneapolis-St Paul International/Wold-Chamberlain Airport', 'Kimmirut Airport', \"Chicago O'Hare International Airport\", 'Mashhad International Airport', 'Kalskag Airport', 'Massena International Richards Field', 'Indianapolis International Airport', 'Roanoke–Blacksburg Regional Airport']\n"
     ]
    }
   ],
   "source": [
    "print(source_list)"
   ],
   "metadata": {
    "collapsed": false,
    "pycharm": {
     "name": "#%%\n"
    }
   }
  },
  {
   "cell_type": "code",
   "execution_count": 19,
   "outputs": [
    {
     "data": {
      "text/plain": "1857    St Louis Lambert International Airport\nName: SourceAirport, dtype: object"
     },
     "execution_count": 19,
     "metadata": {},
     "output_type": "execute_result"
    }
   ],
   "source": [
    "df2.sample()['SourceAirport']"
   ],
   "metadata": {
    "collapsed": false,
    "pycharm": {
     "name": "#%%\n"
    }
   }
  },
  {
   "cell_type": "code",
   "execution_count": 4,
   "outputs": [
    {
     "ename": "AttributeError",
     "evalue": "'OutStream' object has no attribute 'buffer'",
     "output_type": "error",
     "traceback": [
      "\u001B[1;31m---------------------------------------------------------------------------\u001B[0m",
      "\u001B[1;31mAttributeError\u001B[0m                            Traceback (most recent call last)",
      "Cell \u001B[1;32mIn[4], line 28\u001B[0m\n\u001B[0;32m     25\u001B[0m plt\u001B[38;5;241m.\u001B[39mshow()\n\u001B[0;32m     27\u001B[0m \u001B[38;5;66;03m#Two  lines to make our compiler able to draw:\u001B[39;00m\n\u001B[1;32m---> 28\u001B[0m plt\u001B[38;5;241m.\u001B[39msavefig(\u001B[43msys\u001B[49m\u001B[38;5;241;43m.\u001B[39;49m\u001B[43mstdout\u001B[49m\u001B[38;5;241;43m.\u001B[39;49m\u001B[43mbuffer\u001B[49m)\n\u001B[0;32m     29\u001B[0m sys\u001B[38;5;241m.\u001B[39mstdout\u001B[38;5;241m.\u001B[39mflush()\n",
      "\u001B[1;31mAttributeError\u001B[0m: 'OutStream' object has no attribute 'buffer'"
     ]
    }
   ],
   "source": [
    "#Three lines to make our compiler able to draw:\n",
    "import sys\n",
    "import matplotlib\n",
    "matplotlib.use('TkAgg')\n",
    "\n",
    "import matplotlib.pyplot as plt\n",
    "import numpy as np\n",
    "\n",
    "l = []\n",
    "\n",
    "for i in range(100):\n",
    "    l.append(i)\n",
    "\n",
    "\n",
    "djk = np.array([132,464,115,200,231,414,125,501,461,407,129,84,41,667,187,74,43,276,184,374,121,448,91,171,215,401,100,480,365,382,102,277,10,667,409,54,5,132,41,215,43,430,41,199,322,383,12,458,362,345,15,208,146,667,380,2,143,76,85,322,111,479,116,254,289,435,76,499,392,393,81,214,8,667,360,33,9,210,134,289,81,453,84,312,418,394,43,494,376,307,47,7,56,667,133,26,54,264,151,418,])\n",
    "\n",
    "plt.scatter(l, djk, color = 'red')\n",
    "\n",
    "aStar = np.array([2,2,2,4,2,2,12,25,15,23,10,14,5,149,19,5,5,20,4,4,2,2,2,2,3,2,4,2,15,2,9,26,2,104,19,2,2,2,2,3,3,2,4,8,3,2,3,2,14,2,3,13,2,146,3,2,2,2,2,3,2,3,4,4,3,3,8,3,3,6,7,7,2,114,2,2,2,16,2,3,11,8,8,7,4,8,15,11,8,10,10,3,5,114,3,5,4,21,4,4,])\n",
    "\n",
    "plt.xlabel(\"The number of times the program has been run\")\n",
    "plt.ylabel(\"Number of explored nodes in flight graph\")\n",
    "\n",
    "plt.scatter(l, aStar, color = 'blue')\n",
    "plt.show()\n",
    "\n",
    "#Two  lines to make our compiler able to draw:\n",
    "plt.savefig(sys.stdout.buffer)\n",
    "sys.stdout.flush()"
   ],
   "metadata": {
    "collapsed": false,
    "pycharm": {
     "name": "#%%\n"
    }
   }
  },
  {
   "cell_type": "code",
   "execution_count": 9,
   "outputs": [
    {
     "ename": "AttributeError",
     "evalue": "'OutStream' object has no attribute 'buffer'",
     "output_type": "error",
     "traceback": [
      "\u001B[1;31m---------------------------------------------------------------------------\u001B[0m",
      "\u001B[1;31mAttributeError\u001B[0m                            Traceback (most recent call last)",
      "Cell \u001B[1;32mIn[9], line 26\u001B[0m\n\u001B[0;32m     23\u001B[0m plt\u001B[38;5;241m.\u001B[39mshow()\n\u001B[0;32m     25\u001B[0m \u001B[38;5;66;03m#Two  lines to make our compiler able to draw:\u001B[39;00m\n\u001B[1;32m---> 26\u001B[0m plt\u001B[38;5;241m.\u001B[39msavefig(\u001B[43msys\u001B[49m\u001B[38;5;241;43m.\u001B[39;49m\u001B[43mstdout\u001B[49m\u001B[38;5;241;43m.\u001B[39;49m\u001B[43mbuffer\u001B[49m)\n\u001B[0;32m     27\u001B[0m sys\u001B[38;5;241m.\u001B[39mstdout\u001B[38;5;241m.\u001B[39mflush()\n",
      "\u001B[1;31mAttributeError\u001B[0m: 'OutStream' object has no attribute 'buffer'"
     ]
    }
   ],
   "source": [
    "#Three lines to make our compiler able to draw:\n",
    "import sys\n",
    "import matplotlib\n",
    "matplotlib.use('TkAgg')\n",
    "\n",
    "import matplotlib.pyplot as plt\n",
    "import numpy as np\n",
    "l = []\n",
    "\n",
    "for i in range(100):\n",
    "    l.append(i)\n",
    "\n",
    "\n",
    "djk = np.array([2.0,13.0,6.0,7.0,7.0,3.0,9.0,26.0,27.0,17.9,3.8,14.0,8.0,6.0,8.0,4.8,8.0,22.0,28.0,18.9,5.9,17.9,4.8,7.0,7.0,13.1,3.0,41.9,58.3,33.9,14.0,18.9,4.9,14.0,16.0,24.8,5.9,42.9,1.1,29.0,4.0,12.9,12.1,8.9,7.8,2.0,8.1,25.9,26.9,25.3,9.9,3.0,20.9,6.4,7.0,17.0,26.4,32.9,45.5,27.0,18.9,9.0,36.8,7.0,10.9,38.7,32.2,4.0,74.2,16.0,4.0,12.9,9.9,7.8,5.0,2.0,5.0,25.0,27.9,18.0,3.0,18.0,17.0,7.1,3.0,12.0,18.6,27.1,44.3,27.0,3.0,12.2,8.0,2.1,3.0,12.0,7.0,35.7,30.5,19.0,])\n",
    "\n",
    "plt.plot(l, djk, color = 'red')\n",
    "\n",
    "aStar = np.array([1.0,2.0,1.0,0.9,2.0,2.0,3.0,4.0,3.9,7.0,1.9,3.0,2.0,1.0,2.2,2.0,2.2,3.1,5.9,5.0,2.0,3.0,2.0,1.9,1.0,1.9,4.1,6.2,9.0,4.1,3.0,2.0,2.0,3.0,3.1,3.7,3.0,7.2,1.0,4.5,1.9,3.0,2.0,1.0,2.0,2.0,3.0,4.0,5.0,13.7,2.0,2.0,1.0,1.0,2.0,1.7,1.6,3.0,10.1,3.1,3.0,4.0,2.9,2.0,3.0,3.0,1.9,2.0,23.9,3.0,1.0,2.0,2.0,1.1,3.0,1.0,1.9,3.0,5.1,6.0,1.9,3.0,1.0,0.9,2.3,2.0,3.3,3.0,10.9,4.0,1.9,1.9,2.1,2.0,3.0,2.0,2.0,1.8,4.0,3.0,])\n",
    "\n",
    "plt.xlabel(\"The number of times the program has been run\")\n",
    "plt.ylabel(\"Execution Time (ms)\")\n",
    "plt.plot(l, aStar, color = 'blue')\n",
    "plt.show()\n",
    "\n",
    "#Two  lines to make our compiler able to draw:\n",
    "plt.savefig(sys.stdout.buffer)\n",
    "sys.stdout.flush()"
   ],
   "metadata": {
    "collapsed": false,
    "pycharm": {
     "name": "#%%\n"
    }
   }
  },
  {
   "cell_type": "code",
   "execution_count": null,
   "outputs": [],
   "source": [],
   "metadata": {
    "collapsed": false,
    "pycharm": {
     "name": "#%%\n"
    }
   }
  }
 ],
 "metadata": {
  "kernelspec": {
   "display_name": "Python 3",
   "language": "python",
   "name": "python3"
  },
  "language_info": {
   "codemirror_mode": {
    "name": "ipython",
    "version": 2
   },
   "file_extension": ".py",
   "mimetype": "text/x-python",
   "name": "python",
   "nbconvert_exporter": "python",
   "pygments_lexer": "ipython2",
   "version": "2.7.6"
  }
 },
 "nbformat": 4,
 "nbformat_minor": 0
}