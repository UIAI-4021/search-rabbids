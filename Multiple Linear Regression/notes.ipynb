{
 "cells": [
  {
   "cell_type": "code",
   "execution_count": 1,
   "metadata": {
    "collapsed": true,
    "pycharm": {
     "name": "#%%\n"
    }
   },
   "outputs": [],
   "source": [
    "import pandas as pd"
   ]
  },
  {
   "cell_type": "code",
   "execution_count": 2,
   "outputs": [],
   "source": [
    "df = pd.read_csv(\"Flight_Price_Dataset_Q2.csv\")"
   ],
   "metadata": {
    "collapsed": false,
    "pycharm": {
     "name": "#%%\n"
    }
   }
  },
  {
   "cell_type": "code",
   "execution_count": 3,
   "outputs": [
    {
     "data": {
      "text/plain": "       departure_time stops   arrival_time     class  duration  days_left  \\\n0             Evening  zero          Night   Economy      2.17          1   \n1       Early_Morning  zero        Morning   Economy      2.33          1   \n2       Early_Morning  zero  Early_Morning   Economy      2.17          1   \n3             Morning  zero      Afternoon   Economy      2.25          1   \n4             Morning  zero        Morning   Economy      2.33          1   \n...               ...   ...            ...       ...       ...        ...   \n270133  Early_Morning   one          Night  Business     17.25         49   \n270134        Morning   one        Evening  Business     10.08         49   \n270135      Afternoon   one          Night  Business     10.42         49   \n270136  Early_Morning   one        Evening  Business     10.00         49   \n270137        Morning   one        Evening  Business     10.08         49   \n\n        price  \n0        5953  \n1        5953  \n2        5956  \n3        5955  \n4        5955  \n...       ...  \n270133  68739  \n270134  69265  \n270135  77105  \n270136  81585  \n270137  81585  \n\n[270138 rows x 7 columns]",
      "text/html": "<div>\n<style scoped>\n    .dataframe tbody tr th:only-of-type {\n        vertical-align: middle;\n    }\n\n    .dataframe tbody tr th {\n        vertical-align: top;\n    }\n\n    .dataframe thead th {\n        text-align: right;\n    }\n</style>\n<table border=\"1\" class=\"dataframe\">\n  <thead>\n    <tr style=\"text-align: right;\">\n      <th></th>\n      <th>departure_time</th>\n      <th>stops</th>\n      <th>arrival_time</th>\n      <th>class</th>\n      <th>duration</th>\n      <th>days_left</th>\n      <th>price</th>\n    </tr>\n  </thead>\n  <tbody>\n    <tr>\n      <th>0</th>\n      <td>Evening</td>\n      <td>zero</td>\n      <td>Night</td>\n      <td>Economy</td>\n      <td>2.17</td>\n      <td>1</td>\n      <td>5953</td>\n    </tr>\n    <tr>\n      <th>1</th>\n      <td>Early_Morning</td>\n      <td>zero</td>\n      <td>Morning</td>\n      <td>Economy</td>\n      <td>2.33</td>\n      <td>1</td>\n      <td>5953</td>\n    </tr>\n    <tr>\n      <th>2</th>\n      <td>Early_Morning</td>\n      <td>zero</td>\n      <td>Early_Morning</td>\n      <td>Economy</td>\n      <td>2.17</td>\n      <td>1</td>\n      <td>5956</td>\n    </tr>\n    <tr>\n      <th>3</th>\n      <td>Morning</td>\n      <td>zero</td>\n      <td>Afternoon</td>\n      <td>Economy</td>\n      <td>2.25</td>\n      <td>1</td>\n      <td>5955</td>\n    </tr>\n    <tr>\n      <th>4</th>\n      <td>Morning</td>\n      <td>zero</td>\n      <td>Morning</td>\n      <td>Economy</td>\n      <td>2.33</td>\n      <td>1</td>\n      <td>5955</td>\n    </tr>\n    <tr>\n      <th>...</th>\n      <td>...</td>\n      <td>...</td>\n      <td>...</td>\n      <td>...</td>\n      <td>...</td>\n      <td>...</td>\n      <td>...</td>\n    </tr>\n    <tr>\n      <th>270133</th>\n      <td>Early_Morning</td>\n      <td>one</td>\n      <td>Night</td>\n      <td>Business</td>\n      <td>17.25</td>\n      <td>49</td>\n      <td>68739</td>\n    </tr>\n    <tr>\n      <th>270134</th>\n      <td>Morning</td>\n      <td>one</td>\n      <td>Evening</td>\n      <td>Business</td>\n      <td>10.08</td>\n      <td>49</td>\n      <td>69265</td>\n    </tr>\n    <tr>\n      <th>270135</th>\n      <td>Afternoon</td>\n      <td>one</td>\n      <td>Night</td>\n      <td>Business</td>\n      <td>10.42</td>\n      <td>49</td>\n      <td>77105</td>\n    </tr>\n    <tr>\n      <th>270136</th>\n      <td>Early_Morning</td>\n      <td>one</td>\n      <td>Evening</td>\n      <td>Business</td>\n      <td>10.00</td>\n      <td>49</td>\n      <td>81585</td>\n    </tr>\n    <tr>\n      <th>270137</th>\n      <td>Morning</td>\n      <td>one</td>\n      <td>Evening</td>\n      <td>Business</td>\n      <td>10.08</td>\n      <td>49</td>\n      <td>81585</td>\n    </tr>\n  </tbody>\n</table>\n<p>270138 rows × 7 columns</p>\n</div>"
     },
     "execution_count": 3,
     "metadata": {},
     "output_type": "execute_result"
    }
   ],
   "source": [
    "df"
   ],
   "metadata": {
    "collapsed": false,
    "pycharm": {
     "name": "#%%\n"
    }
   }
  },
  {
   "cell_type": "code",
   "execution_count": 4,
   "outputs": [
    {
     "data": {
      "text/plain": "class\nEconomy     185998\nBusiness     84140\nName: count, dtype: int64"
     },
     "execution_count": 4,
     "metadata": {},
     "output_type": "execute_result"
    }
   ],
   "source": [
    "df['class'].value_counts()"
   ],
   "metadata": {
    "collapsed": false,
    "pycharm": {
     "name": "#%%\n"
    }
   }
  },
  {
   "cell_type": "code",
   "execution_count": 5,
   "outputs": [],
   "source": [
    "df['class'] = df['class'].map({'Economy' : 0, 'Business' : 1})"
   ],
   "metadata": {
    "collapsed": false,
    "pycharm": {
     "name": "#%%\n"
    }
   }
  },
  {
   "cell_type": "code",
   "execution_count": 6,
   "outputs": [
    {
     "data": {
      "text/plain": "       departure_time stops   arrival_time  class  duration  days_left  price\n0             Evening  zero          Night      0      2.17          1   5953\n1       Early_Morning  zero        Morning      0      2.33          1   5953\n2       Early_Morning  zero  Early_Morning      0      2.17          1   5956\n3             Morning  zero      Afternoon      0      2.25          1   5955\n4             Morning  zero        Morning      0      2.33          1   5955\n...               ...   ...            ...    ...       ...        ...    ...\n270133  Early_Morning   one          Night      1     17.25         49  68739\n270134        Morning   one        Evening      1     10.08         49  69265\n270135      Afternoon   one          Night      1     10.42         49  77105\n270136  Early_Morning   one        Evening      1     10.00         49  81585\n270137        Morning   one        Evening      1     10.08         49  81585\n\n[270138 rows x 7 columns]",
      "text/html": "<div>\n<style scoped>\n    .dataframe tbody tr th:only-of-type {\n        vertical-align: middle;\n    }\n\n    .dataframe tbody tr th {\n        vertical-align: top;\n    }\n\n    .dataframe thead th {\n        text-align: right;\n    }\n</style>\n<table border=\"1\" class=\"dataframe\">\n  <thead>\n    <tr style=\"text-align: right;\">\n      <th></th>\n      <th>departure_time</th>\n      <th>stops</th>\n      <th>arrival_time</th>\n      <th>class</th>\n      <th>duration</th>\n      <th>days_left</th>\n      <th>price</th>\n    </tr>\n  </thead>\n  <tbody>\n    <tr>\n      <th>0</th>\n      <td>Evening</td>\n      <td>zero</td>\n      <td>Night</td>\n      <td>0</td>\n      <td>2.17</td>\n      <td>1</td>\n      <td>5953</td>\n    </tr>\n    <tr>\n      <th>1</th>\n      <td>Early_Morning</td>\n      <td>zero</td>\n      <td>Morning</td>\n      <td>0</td>\n      <td>2.33</td>\n      <td>1</td>\n      <td>5953</td>\n    </tr>\n    <tr>\n      <th>2</th>\n      <td>Early_Morning</td>\n      <td>zero</td>\n      <td>Early_Morning</td>\n      <td>0</td>\n      <td>2.17</td>\n      <td>1</td>\n      <td>5956</td>\n    </tr>\n    <tr>\n      <th>3</th>\n      <td>Morning</td>\n      <td>zero</td>\n      <td>Afternoon</td>\n      <td>0</td>\n      <td>2.25</td>\n      <td>1</td>\n      <td>5955</td>\n    </tr>\n    <tr>\n      <th>4</th>\n      <td>Morning</td>\n      <td>zero</td>\n      <td>Morning</td>\n      <td>0</td>\n      <td>2.33</td>\n      <td>1</td>\n      <td>5955</td>\n    </tr>\n    <tr>\n      <th>...</th>\n      <td>...</td>\n      <td>...</td>\n      <td>...</td>\n      <td>...</td>\n      <td>...</td>\n      <td>...</td>\n      <td>...</td>\n    </tr>\n    <tr>\n      <th>270133</th>\n      <td>Early_Morning</td>\n      <td>one</td>\n      <td>Night</td>\n      <td>1</td>\n      <td>17.25</td>\n      <td>49</td>\n      <td>68739</td>\n    </tr>\n    <tr>\n      <th>270134</th>\n      <td>Morning</td>\n      <td>one</td>\n      <td>Evening</td>\n      <td>1</td>\n      <td>10.08</td>\n      <td>49</td>\n      <td>69265</td>\n    </tr>\n    <tr>\n      <th>270135</th>\n      <td>Afternoon</td>\n      <td>one</td>\n      <td>Night</td>\n      <td>1</td>\n      <td>10.42</td>\n      <td>49</td>\n      <td>77105</td>\n    </tr>\n    <tr>\n      <th>270136</th>\n      <td>Early_Morning</td>\n      <td>one</td>\n      <td>Evening</td>\n      <td>1</td>\n      <td>10.00</td>\n      <td>49</td>\n      <td>81585</td>\n    </tr>\n    <tr>\n      <th>270137</th>\n      <td>Morning</td>\n      <td>one</td>\n      <td>Evening</td>\n      <td>1</td>\n      <td>10.08</td>\n      <td>49</td>\n      <td>81585</td>\n    </tr>\n  </tbody>\n</table>\n<p>270138 rows × 7 columns</p>\n</div>"
     },
     "execution_count": 6,
     "metadata": {},
     "output_type": "execute_result"
    }
   ],
   "source": [
    "df"
   ],
   "metadata": {
    "collapsed": false,
    "pycharm": {
     "name": "#%%\n"
    }
   }
  },
  {
   "cell_type": "code",
   "execution_count": 7,
   "outputs": [
    {
     "data": {
      "text/plain": "departure_time\nMorning          64036\nEarly_Morning    60112\nEvening          58586\nNight            43267\nAfternoon        42951\nLate_Night        1186\nName: count, dtype: int64"
     },
     "execution_count": 7,
     "metadata": {},
     "output_type": "execute_result"
    }
   ],
   "source": [
    "df['departure_time'].value_counts()"
   ],
   "metadata": {
    "collapsed": false,
    "pycharm": {
     "name": "#%%\n"
    }
   }
  },
  {
   "cell_type": "code",
   "execution_count": 8,
   "outputs": [],
   "source": [
    "df['departure_time'] = df['departure_time'].map({'Early_Morning' : 0, 'Morning' : 1, 'Afternoon' : 2,\n",
    "                                                 'Evening' : 3, 'Night' : 4, 'Late_Night' : 5})"
   ],
   "metadata": {
    "collapsed": false,
    "pycharm": {
     "name": "#%%\n"
    }
   }
  },
  {
   "cell_type": "code",
   "execution_count": 9,
   "outputs": [
    {
     "data": {
      "text/plain": "departure_time\n1    64036\n0    60112\n3    58586\n4    43267\n2    42951\n5     1186\nName: count, dtype: int64"
     },
     "execution_count": 9,
     "metadata": {},
     "output_type": "execute_result"
    }
   ],
   "source": [
    "df['departure_time'].value_counts()"
   ],
   "metadata": {
    "collapsed": false,
    "pycharm": {
     "name": "#%%\n"
    }
   }
  },
  {
   "cell_type": "code",
   "execution_count": 10,
   "outputs": [
    {
     "data": {
      "text/plain": "        departure_time stops   arrival_time  class  duration  days_left  price\n0                    3  zero          Night      0      2.17          1   5953\n1                    0  zero        Morning      0      2.33          1   5953\n2                    0  zero  Early_Morning      0      2.17          1   5956\n3                    1  zero      Afternoon      0      2.25          1   5955\n4                    1  zero        Morning      0      2.33          1   5955\n...                ...   ...            ...    ...       ...        ...    ...\n270133               0   one          Night      1     17.25         49  68739\n270134               1   one        Evening      1     10.08         49  69265\n270135               2   one          Night      1     10.42         49  77105\n270136               0   one        Evening      1     10.00         49  81585\n270137               1   one        Evening      1     10.08         49  81585\n\n[270138 rows x 7 columns]",
      "text/html": "<div>\n<style scoped>\n    .dataframe tbody tr th:only-of-type {\n        vertical-align: middle;\n    }\n\n    .dataframe tbody tr th {\n        vertical-align: top;\n    }\n\n    .dataframe thead th {\n        text-align: right;\n    }\n</style>\n<table border=\"1\" class=\"dataframe\">\n  <thead>\n    <tr style=\"text-align: right;\">\n      <th></th>\n      <th>departure_time</th>\n      <th>stops</th>\n      <th>arrival_time</th>\n      <th>class</th>\n      <th>duration</th>\n      <th>days_left</th>\n      <th>price</th>\n    </tr>\n  </thead>\n  <tbody>\n    <tr>\n      <th>0</th>\n      <td>3</td>\n      <td>zero</td>\n      <td>Night</td>\n      <td>0</td>\n      <td>2.17</td>\n      <td>1</td>\n      <td>5953</td>\n    </tr>\n    <tr>\n      <th>1</th>\n      <td>0</td>\n      <td>zero</td>\n      <td>Morning</td>\n      <td>0</td>\n      <td>2.33</td>\n      <td>1</td>\n      <td>5953</td>\n    </tr>\n    <tr>\n      <th>2</th>\n      <td>0</td>\n      <td>zero</td>\n      <td>Early_Morning</td>\n      <td>0</td>\n      <td>2.17</td>\n      <td>1</td>\n      <td>5956</td>\n    </tr>\n    <tr>\n      <th>3</th>\n      <td>1</td>\n      <td>zero</td>\n      <td>Afternoon</td>\n      <td>0</td>\n      <td>2.25</td>\n      <td>1</td>\n      <td>5955</td>\n    </tr>\n    <tr>\n      <th>4</th>\n      <td>1</td>\n      <td>zero</td>\n      <td>Morning</td>\n      <td>0</td>\n      <td>2.33</td>\n      <td>1</td>\n      <td>5955</td>\n    </tr>\n    <tr>\n      <th>...</th>\n      <td>...</td>\n      <td>...</td>\n      <td>...</td>\n      <td>...</td>\n      <td>...</td>\n      <td>...</td>\n      <td>...</td>\n    </tr>\n    <tr>\n      <th>270133</th>\n      <td>0</td>\n      <td>one</td>\n      <td>Night</td>\n      <td>1</td>\n      <td>17.25</td>\n      <td>49</td>\n      <td>68739</td>\n    </tr>\n    <tr>\n      <th>270134</th>\n      <td>1</td>\n      <td>one</td>\n      <td>Evening</td>\n      <td>1</td>\n      <td>10.08</td>\n      <td>49</td>\n      <td>69265</td>\n    </tr>\n    <tr>\n      <th>270135</th>\n      <td>2</td>\n      <td>one</td>\n      <td>Night</td>\n      <td>1</td>\n      <td>10.42</td>\n      <td>49</td>\n      <td>77105</td>\n    </tr>\n    <tr>\n      <th>270136</th>\n      <td>0</td>\n      <td>one</td>\n      <td>Evening</td>\n      <td>1</td>\n      <td>10.00</td>\n      <td>49</td>\n      <td>81585</td>\n    </tr>\n    <tr>\n      <th>270137</th>\n      <td>1</td>\n      <td>one</td>\n      <td>Evening</td>\n      <td>1</td>\n      <td>10.08</td>\n      <td>49</td>\n      <td>81585</td>\n    </tr>\n  </tbody>\n</table>\n<p>270138 rows × 7 columns</p>\n</div>"
     },
     "execution_count": 10,
     "metadata": {},
     "output_type": "execute_result"
    }
   ],
   "source": [
    "df"
   ],
   "metadata": {
    "collapsed": false,
    "pycharm": {
     "name": "#%%\n"
    }
   }
  },
  {
   "cell_type": "code",
   "execution_count": 11,
   "outputs": [
    {
     "data": {
      "text/plain": "arrival_time\nNight            82413\nEvening          70494\nMorning          56438\nAfternoon        34274\nEarly_Morning    13889\nLate_Night       12630\nName: count, dtype: int64"
     },
     "execution_count": 11,
     "metadata": {},
     "output_type": "execute_result"
    }
   ],
   "source": [
    "df['arrival_time'].value_counts()"
   ],
   "metadata": {
    "collapsed": false,
    "pycharm": {
     "name": "#%%\n"
    }
   }
  },
  {
   "cell_type": "code",
   "execution_count": 12,
   "outputs": [],
   "source": [
    "df['arrival_time'] = df['arrival_time'].map({'Early_Morning' : 0, 'Morning' : 1, 'Afternoon' : 2,\n",
    "                                                 'Evening' : 3, 'Night' : 4, 'Late_Night' : 5})"
   ],
   "metadata": {
    "collapsed": false,
    "pycharm": {
     "name": "#%%\n"
    }
   }
  },
  {
   "cell_type": "code",
   "execution_count": 13,
   "outputs": [
    {
     "data": {
      "text/plain": "arrival_time\n4    82413\n3    70494\n1    56438\n2    34274\n0    13889\n5    12630\nName: count, dtype: int64"
     },
     "execution_count": 13,
     "metadata": {},
     "output_type": "execute_result"
    }
   ],
   "source": [
    "df['arrival_time'].value_counts()"
   ],
   "metadata": {
    "collapsed": false,
    "pycharm": {
     "name": "#%%\n"
    }
   }
  },
  {
   "cell_type": "code",
   "execution_count": 14,
   "outputs": [
    {
     "data": {
      "text/plain": "        departure_time stops  arrival_time  class  duration  days_left  price\n0                    3  zero             4      0      2.17          1   5953\n1                    0  zero             1      0      2.33          1   5953\n2                    0  zero             0      0      2.17          1   5956\n3                    1  zero             2      0      2.25          1   5955\n4                    1  zero             1      0      2.33          1   5955\n...                ...   ...           ...    ...       ...        ...    ...\n270133               0   one             4      1     17.25         49  68739\n270134               1   one             3      1     10.08         49  69265\n270135               2   one             4      1     10.42         49  77105\n270136               0   one             3      1     10.00         49  81585\n270137               1   one             3      1     10.08         49  81585\n\n[270138 rows x 7 columns]",
      "text/html": "<div>\n<style scoped>\n    .dataframe tbody tr th:only-of-type {\n        vertical-align: middle;\n    }\n\n    .dataframe tbody tr th {\n        vertical-align: top;\n    }\n\n    .dataframe thead th {\n        text-align: right;\n    }\n</style>\n<table border=\"1\" class=\"dataframe\">\n  <thead>\n    <tr style=\"text-align: right;\">\n      <th></th>\n      <th>departure_time</th>\n      <th>stops</th>\n      <th>arrival_time</th>\n      <th>class</th>\n      <th>duration</th>\n      <th>days_left</th>\n      <th>price</th>\n    </tr>\n  </thead>\n  <tbody>\n    <tr>\n      <th>0</th>\n      <td>3</td>\n      <td>zero</td>\n      <td>4</td>\n      <td>0</td>\n      <td>2.17</td>\n      <td>1</td>\n      <td>5953</td>\n    </tr>\n    <tr>\n      <th>1</th>\n      <td>0</td>\n      <td>zero</td>\n      <td>1</td>\n      <td>0</td>\n      <td>2.33</td>\n      <td>1</td>\n      <td>5953</td>\n    </tr>\n    <tr>\n      <th>2</th>\n      <td>0</td>\n      <td>zero</td>\n      <td>0</td>\n      <td>0</td>\n      <td>2.17</td>\n      <td>1</td>\n      <td>5956</td>\n    </tr>\n    <tr>\n      <th>3</th>\n      <td>1</td>\n      <td>zero</td>\n      <td>2</td>\n      <td>0</td>\n      <td>2.25</td>\n      <td>1</td>\n      <td>5955</td>\n    </tr>\n    <tr>\n      <th>4</th>\n      <td>1</td>\n      <td>zero</td>\n      <td>1</td>\n      <td>0</td>\n      <td>2.33</td>\n      <td>1</td>\n      <td>5955</td>\n    </tr>\n    <tr>\n      <th>...</th>\n      <td>...</td>\n      <td>...</td>\n      <td>...</td>\n      <td>...</td>\n      <td>...</td>\n      <td>...</td>\n      <td>...</td>\n    </tr>\n    <tr>\n      <th>270133</th>\n      <td>0</td>\n      <td>one</td>\n      <td>4</td>\n      <td>1</td>\n      <td>17.25</td>\n      <td>49</td>\n      <td>68739</td>\n    </tr>\n    <tr>\n      <th>270134</th>\n      <td>1</td>\n      <td>one</td>\n      <td>3</td>\n      <td>1</td>\n      <td>10.08</td>\n      <td>49</td>\n      <td>69265</td>\n    </tr>\n    <tr>\n      <th>270135</th>\n      <td>2</td>\n      <td>one</td>\n      <td>4</td>\n      <td>1</td>\n      <td>10.42</td>\n      <td>49</td>\n      <td>77105</td>\n    </tr>\n    <tr>\n      <th>270136</th>\n      <td>0</td>\n      <td>one</td>\n      <td>3</td>\n      <td>1</td>\n      <td>10.00</td>\n      <td>49</td>\n      <td>81585</td>\n    </tr>\n    <tr>\n      <th>270137</th>\n      <td>1</td>\n      <td>one</td>\n      <td>3</td>\n      <td>1</td>\n      <td>10.08</td>\n      <td>49</td>\n      <td>81585</td>\n    </tr>\n  </tbody>\n</table>\n<p>270138 rows × 7 columns</p>\n</div>"
     },
     "execution_count": 14,
     "metadata": {},
     "output_type": "execute_result"
    }
   ],
   "source": [
    "df"
   ],
   "metadata": {
    "collapsed": false,
    "pycharm": {
     "name": "#%%\n"
    }
   }
  },
  {
   "cell_type": "code",
   "execution_count": null,
   "outputs": [],
   "source": [],
   "metadata": {
    "collapsed": false,
    "pycharm": {
     "name": "#%%\n"
    }
   }
  }
 ],
 "metadata": {
  "kernelspec": {
   "display_name": "Python 3",
   "language": "python",
   "name": "python3"
  },
  "language_info": {
   "codemirror_mode": {
    "name": "ipython",
    "version": 2
   },
   "file_extension": ".py",
   "mimetype": "text/x-python",
   "name": "python",
   "nbconvert_exporter": "python",
   "pygments_lexer": "ipython2",
   "version": "2.7.6"
  }
 },
 "nbformat": 4,
 "nbformat_minor": 0
}